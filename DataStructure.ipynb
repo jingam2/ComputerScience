{
  "nbformat": 4,
  "nbformat_minor": 0,
  "metadata": {
    "colab": {
      "provenance": [],
      "authorship_tag": "ABX9TyMj1BCdB0R3T9VSY2Ku9Wtb"
    },
    "kernelspec": {
      "name": "python3",
      "display_name": "Python 3"
    },
    "language_info": {
      "name": "python"
    }
  },
  "cells": [
    {
      "cell_type": "code",
      "source": [
        "'''\n",
        "목차\n",
        "\n",
        "1. 자료구조 개요\n",
        "자료구조의 정의\n",
        "자료구조의 중요성\n",
        "자료구조의 종류\n",
        "\n",
        "2. 배열과 리스트\n",
        "배열 (Array)\n",
        "배열의 개념\n",
        "배열의 장단점\n",
        "배열의 활용 예제\n",
        "연결 리스트 (Linked List)\n",
        "단일 연결 리스트\n",
        "이중 연결 리스트\n",
        "원형 연결 리스트\n",
        "\n",
        "3. 스택과 큐\n",
        "스택 (Stack)\n",
        "스택의 개념\n",
        "스택의 활용 예제\n",
        "큐 (Queue)\n",
        "큐의 개념\n",
        "큐의 종류 (일반 큐, 우선순위 큐, 원형 큐)\n",
        "큐의 활용 예제\n",
        "\n",
        "4. 트리\n",
        "트리의 개념\n",
        "이진 트리 (Binary Tree)\n",
        "이진 탐색 트리 (BST)\n",
        "AVL 트리\n",
        "힙 (Heap)\n",
        "트리의 순회 방법 (전위, 중위, 후위)\n",
        "\n",
        "5. 그래프\n",
        "그래프의 개념\n",
        "그래프의 표현 방법 (인접 행렬, 인접 리스트)\n",
        "그래프 탐색 알고리즘\n",
        "깊이 우선 탐색 (DFS)\n",
        "너비 우선 탐색 (BFS)\n",
        "\n",
        "6. 해시 테이블\n",
        "해시 테이블의 개념\n",
        "해싱 함수\n",
        "충돌 해결 방법 (체이닝, 오픈 어드레싱)\n",
        "\n",
        "7. 정렬 알고리즘\n",
        "버블 정렬 (Bubble Sort)\n",
        "선택 정렬 (Selection Sort)\n",
        "삽입 정렬 (Insertion Sort)\n",
        "퀵 정렬 (Quick Sort)\n",
        "병합 정렬 (Merge Sort)\n",
        "힙 정렬 (Heap Sort)\n",
        "\n",
        "8. 탐색 알고리즘\n",
        "선형 탐색 (Linear Search)\n",
        "이진 탐색 (Binary Search)\n",
        "\n",
        "9. 고급 자료구조\n",
        "B-트리\n",
        "트라이 (Trie)\n",
        "세그먼트 트리 (Segment Tree)\n",
        "펜윅 트리 (Fenwick Tree)\n",
        "\n",
        "10. 알고리즘 분석\n",
        "시간 복잡도와 공간 복잡도\n",
        "빅오 표기법 (Big-O Notation)\n",
        "최선, 평균, 최악의 경우 분석\n",
        "'''"
      ],
      "metadata": {
        "colab": {
          "base_uri": "https://localhost:8080/",
          "height": 182
        },
        "id": "l8oFyu54qySv",
        "outputId": "664e302f-7b3e-4b59-f549-8f4312ba0d70"
      },
      "execution_count": null,
      "outputs": [
        {
          "output_type": "execute_result",
          "data": {
            "text/plain": [
              "'\\n목차\\n\\n1. 자료구조 개요\\n자료구조의 정의\\n자료구조의 중요성\\n자료구조의 종류\\n\\n2. 배열과 리스트\\n배열 (Array)\\n배열의 개념\\n배열의 장단점\\n배열의 활용 예제\\n연결 리스트 (Linked List)\\n단일 연결 리스트\\n이중 연결 리스트\\n원형 연결 리스트\\n\\n3. 스택과 큐\\n스택 (Stack)\\n스택의 개념\\n스택의 활용 예제\\n큐 (Queue)\\n큐의 개념\\n큐의 종류 (일반 큐, 우선순위 큐, 원형 큐)\\n큐의 활용 예제\\n\\n4. 트리\\n트리의 개념\\n이진 트리 (Binary Tree)\\n이진 탐색 트리 (BST)\\nAVL 트리\\n힙 (Heap)\\n트리의 순회 방법 (전위, 중위, 후위)\\n\\n5. 그래프\\n그래프의 개념\\n그래프의 표현 방법 (인접 행렬, 인접 리스트)\\n그래프 탐색 알고리즘\\n깊이 우선 탐색 (DFS)\\n너비 우선 탐색 (BFS)\\n\\n6. 해시 테이블\\n해시 테이블의 개념\\n해싱 함수\\n충돌 해결 방법 (체이닝, 오픈 어드레싱)\\n\\n7. 정렬 알고리즘\\n버블 정렬 (Bubble Sort)\\n선택 정렬 (Selection Sort)\\n삽입 정렬 (Insertion Sort)\\n퀵 정렬 (Quick Sort)\\n병합 정렬 (Merge Sort)\\n힙 정렬 (Heap Sort)\\n\\n8. 탐색 알고리즘\\n선형 탐색 (Linear Search)\\n이진 탐색 (Binary Search)\\n\\n9. 고급 자료구조\\nB-트리\\n트라이 (Trie)\\n세그먼트 트리 (Segment Tree)\\n펜윅 트리 (Fenwick Tree)\\n\\n10. 알고리즘 분석\\n시간 복잡도와 공간 복잡도\\n빅오 표기법 (Big-O Notation)\\n최선, 평균, 최악의 경우 분석\\n'"
            ],
            "application/vnd.google.colaboratory.intrinsic+json": {
              "type": "string"
            }
          },
          "metadata": {},
          "execution_count": 15
        }
      ]
    },
    {
      "cell_type": "code",
      "source": [
        "'''\n",
        "연결 리스트의 장점\n",
        "동적 크기 조절: 연결 리스트는 필요에 따라 크기를 동적으로 조절할 수 있어 메모리 낭비가 적습니다.\n",
        "삽입 및 삭제 효율성: 중간에 요소를 삽입하거나 삭제할 때, 연결 리스트는 배열보다 효율적입니다. 배열은 요소를 삽입하거나 삭제할 때 나머지 요소들을 이동시켜야 하지만, 연결 리스트는 포인터만 변경하면 됩니다.\n",
        "\n",
        "배열의 장점\n",
        "빠른 접근 속도: 배열은 인덱스를 통해 임의의 요소에 빠르게 접근할 수 있습니다. 연결 리스트는 순차적으로 접근해야 하므로 속도가 느립니다.\n",
        "메모리 효율성: 배열은 연속된 메모리 공간을 사용하므로 메모리 사용이 효율적입니다. 연결 리스트는 각 노드가 추가적인 포인터를 저장해야 하므로 메모리 오버헤드가 있습니다.\n",
        "\n",
        "실생활 활용 예시\n",
        "\n",
        "배열:\n",
        "이미지 처리: 픽셀 데이터를 2차원 배열로 저장하여 이미지 처리에 사용됩니다.\n",
        "스케줄 관리: 일정한 크기의 시간표나 캘린더를 배열로 관리할 수 있습니다.\n",
        "\n",
        "연결 리스트:\n",
        "웹 브라우저의 방문 기록: 방문한 웹 페이지를 연결 리스트로 관리하여 이전 페이지로 돌아가거나 앞으로 이동할 수 있습니다.\n",
        "음악 플레이리스트: 노래 목록을 연결 리스트로 관리하여 노래를 추가하거나 삭제할 때 유연하게 처리할 수 있습니다.\n",
        "'''"
      ],
      "metadata": {
        "colab": {
          "base_uri": "https://localhost:8080/",
          "height": 163
        },
        "id": "GRQadE56fDer",
        "outputId": "45442243-b4fa-4e8e-d48b-ac06249297f5"
      },
      "execution_count": null,
      "outputs": [
        {
          "output_type": "execute_result",
          "data": {
            "text/plain": [
              "'\\n연결 리스트의 장점\\n동적 크기 조절: 연결 리스트는 필요에 따라 크기를 동적으로 조절할 수 있어 메모리 낭비가 적습니다.\\n삽입 및 삭제 효율성: 중간에 요소를 삽입하거나 삭제할 때, 연결 리스트는 배열보다 효율적입니다. 배열은 요소를 삽입하거나 삭제할 때 나머지 요소들을 이동시켜야 하지만, 연결 리스트는 포인터만 변경하면 됩니다.\\n\\n배열의 장점\\n빠른 접근 속도: 배열은 인덱스를 통해 임의의 요소에 빠르게 접근할 수 있습니다. 연결 리스트는 순차적으로 접근해야 하므로 속도가 느립니다.\\n메모리 효율성: 배열은 연속된 메모리 공간을 사용하므로 메모리 사용이 효율적입니다. 연결 리스트는 각 노드가 추가적인 포인터를 저장해야 하므로 메모리 오버헤드가 있습니다.\\n\\n실생활 활용 예시\\n\\n배열:\\n이미지 처리: 픽셀 데이터를 2차원 배열로 저장하여 이미지 처리에 사용됩니다.\\n스케줄 관리: 일정한 크기의 시간표나 캘린더를 배열로 관리할 수 있습니다.\\n\\n연결 리스트:\\n웹 브라우저의 방문 기록: 방문한 웹 페이지를 연결 리스트로 관리하여 이전 페이지로 돌아가거나 앞으로 이동할 수 있습니다.\\n음악 플레이리스트: 노래 목록을 연결 리스트로 관리하여 노래를 추가하거나 삭제할 때 유연하게 처리할 수 있습니다.\\n'"
            ],
            "application/vnd.google.colaboratory.intrinsic+json": {
              "type": "string"
            }
          },
          "metadata": {},
          "execution_count": 16
        }
      ]
    },
    {
      "cell_type": "code",
      "execution_count": null,
      "metadata": {
        "colab": {
          "base_uri": "https://localhost:8080/"
        },
        "id": "C-KKakYvd5J3",
        "outputId": "ff881112-a0ed-4717-9e12-d07473cf8e41"
      },
      "outputs": [
        {
          "output_type": "stream",
          "name": "stdout",
          "text": [
            "1\n",
            "3\n",
            "[1, 10, 3, 4, 5]\n",
            "[1, 10, 3, 4, 5, 6]\n",
            "[1, 10, 4, 5, 6]\n"
          ]
        }
      ],
      "source": [
        "# 배열의 개념과 활용 예제\n",
        "\n",
        "# 배열 생성\n",
        "array = [1, 2, 3, 4, 5]\n",
        "\n",
        "# 배열의 요소에 접근\n",
        "print(array[0])  # 출력: 1\n",
        "print(array[2])  # 출력: 3\n",
        "\n",
        "# 배열의 요소 수정\n",
        "array[1] = 10\n",
        "print(array)  # 출력: [1, 10, 3, 4, 5]\n",
        "\n",
        "# 배열의 요소 추가\n",
        "array.append(6)\n",
        "print(array)  # 출력: [1, 10, 3, 4, 5, 6]\n",
        "\n",
        "# 배열의 요소 삭제\n",
        "array.pop(2)\n",
        "print(array)  # 출력: [1, 10, 4, 5, 6]"
      ]
    },
    {
      "cell_type": "code",
      "source": [
        "# 단일 연결 리스트의 노드 클래스\n",
        "class Node:\n",
        "    def __init__(self, data):\n",
        "        self.data = data  # 노드가 저장하는 데이터\n",
        "        self.next = None  # 다음 노드를 가리키는 포인터\n",
        "\n",
        "# 단일 연결 리스트 클래스\n",
        "class SinglyLinkedList:\n",
        "    def __init__(self):\n",
        "        self.head = None  # 리스트의 첫 번째 노드를 가리키는 포인터\n",
        "\n",
        "    # 리스트의 끝에 새로운 노드를 추가하는 메서드\n",
        "    def append(self, data):\n",
        "        new_node = Node(data)  # 새로운 노드를 생성\n",
        "        if self.head is None:  # 리스트가 비어 있는 경우\n",
        "            self.head = new_node  # 새로운 노드를 첫 번째 노드로 설정\n",
        "            return\n",
        "        last = self.head\n",
        "        while last.next:  # 마지막 노드를 찾을 때까지 반복\n",
        "            last = last.next\n",
        "        last.next = new_node  # 마지막 노드의 다음 노드로 새로운 노드를 설정\n",
        "\n",
        "    # 리스트의 모든 노드를 출력하는 메서드\n",
        "    def print_list(self):\n",
        "        current = self.head\n",
        "        while current:  # 현재 노드가 None이 아닐 때까지 반복\n",
        "            print(current.data, end=\" -> \")\n",
        "            current = current.next\n",
        "        print(\"None\")\n",
        "\n",
        "# 단일 연결 리스트 사용 예제\n",
        "sll = SinglyLinkedList()\n",
        "sll.append(1)\n",
        "sll.append(2)\n",
        "sll.append(3)\n",
        "sll.print_list()  # 출력: 1 -> 2 -> 3 -> None"
      ],
      "metadata": {
        "colab": {
          "base_uri": "https://localhost:8080/"
        },
        "id": "UOp6rUFPfDkP",
        "outputId": "fe06ca6d-e41c-4f6a-8024-60bf43f17d5e"
      },
      "execution_count": null,
      "outputs": [
        {
          "output_type": "stream",
          "name": "stdout",
          "text": [
            "1 -> 2 -> 3 -> None\n"
          ]
        }
      ]
    },
    {
      "cell_type": "code",
      "source": [
        "# 이중 연결 리스트의 노드 클래스\n",
        "class Node:\n",
        "    def __init__(self, data):\n",
        "        self.data = data  # 노드가 저장하는 데이터\n",
        "        self.next = None  # 다음 노드를 가리키는 포인터\n",
        "        self.prev = None  # 이전 노드를 가리키는 포인터\n",
        "\n",
        "# 이중 연결 리스트 클래스\n",
        "class DoublyLinkedList:\n",
        "    def __init__(self):\n",
        "        self.head = None  # 리스트의 첫 번째 노드를 가리키는 포인터\n",
        "\n",
        "    # 리스트의 끝에 새로운 노드를 추가하는 메서드\n",
        "    def append(self, data):\n",
        "        new_node = Node(data)  # 새로운 노드를 생성\n",
        "        if self.head is None:  # 리스트가 비어 있는 경우\n",
        "            self.head = new_node  # 새로운 노드를 첫 번째 노드로 설정\n",
        "            return\n",
        "        last = self.head\n",
        "        while last.next:  # 마지막 노드를 찾을 때까지 반복\n",
        "            last = last.next\n",
        "        last.next = new_node  # 마지막 노드의 다음 노드로 새로운 노드를 설정\n",
        "        new_node.prev = last  # 새로운 노드의 이전 노드로 마지막 노드를 설정\n",
        "\n",
        "    # 리스트의 모든 노드를 출력하는 메서드\n",
        "    def print_list(self):\n",
        "        current = self.head\n",
        "        while current:  # 현재 노드가 None이 아닐 때까지 반복\n",
        "            print(current.data, end=\" <-> \")\n",
        "            current = current.next\n",
        "        print(\"None\")\n",
        "\n",
        "# 이중 연결 리스트 사용 예제\n",
        "dll = DoublyLinkedList()\n",
        "dll.append(1)\n",
        "dll.append(2)\n",
        "dll.append(3)\n",
        "dll.print_list()  # 출력: 1 <-> 2 <-> 3 <-> None"
      ],
      "metadata": {
        "colab": {
          "base_uri": "https://localhost:8080/"
        },
        "id": "zAzbriFufDnh",
        "outputId": "edabefd2-4cc3-42d2-b3d9-1c81b55fc130"
      },
      "execution_count": null,
      "outputs": [
        {
          "output_type": "stream",
          "name": "stdout",
          "text": [
            "1 <-> 2 <-> 3 <-> None\n"
          ]
        }
      ]
    },
    {
      "cell_type": "code",
      "source": [
        "# 원형 연결 리스트의 노드 클래스\n",
        "class Node:\n",
        "    def __init__(self, data):\n",
        "        self.data = data  # 노드가 저장하는 데이터\n",
        "        self.next = None  # 다음 노드를 가리키는 포인터\n",
        "\n",
        "# 원형 연결 리스트 클래스\n",
        "class CircularLinkedList:\n",
        "    def __init__(self):\n",
        "        self.head = None  # 리스트의 첫 번째 노드를 가리키는 포인터\n",
        "\n",
        "    # 리스트의 끝에 새로운 노드를 추가하는 메서드\n",
        "    def append(self, data):\n",
        "        new_node = Node(data)  # 새로운 노드를 생성\n",
        "        if self.head is None:  # 리스트가 비어 있는 경우\n",
        "            self.head = new_node  # 새로운 노드를 첫 번째 노드로 설정\n",
        "            new_node.next = self.head  # 새로운 노드의 다음 노드로 자기 자신을 설정\n",
        "            return\n",
        "        last = self.head\n",
        "        while last.next != self.head:  # 마지막 노드를 찾을 때까지 반복\n",
        "            last = last.next\n",
        "        last.next = new_node  # 마지막 노드의 다음 노드로 새로운 노드를 설정\n",
        "        new_node.next = self.head  # 새로운 노드의 다음 노드로 첫 번째 노드를 설정\n",
        "\n",
        "    # 리스트의 모든 노드를 출력하는 메서드\n",
        "    def print_list(self):\n",
        "        current = self.head\n",
        "        if self.head is not None:\n",
        "            while True:\n",
        "                print(current.data, end=\" -> \")\n",
        "                current = current.next\n",
        "                if current == self.head:  # 다시 첫 번째 노드로 돌아오면 종료\n",
        "                    break\n",
        "        print(\"None\")\n",
        "\n",
        "# 원형 연결 리스트 사용 예제\n",
        "cll = CircularLinkedList()\n",
        "cll.append(1)\n",
        "cll.append(2)\n",
        "cll.append(3)\n",
        "cll.print_list()  # 출력: 1 -> 2 -> 3 -> None"
      ],
      "metadata": {
        "colab": {
          "base_uri": "https://localhost:8080/"
        },
        "id": "5yG0IIpwfDqd",
        "outputId": "cadbcd44-4585-4719-ed12-e8d5a9645b03"
      },
      "execution_count": null,
      "outputs": [
        {
          "output_type": "stream",
          "name": "stdout",
          "text": [
            "1 -> 2 -> 3 -> None\n"
          ]
        }
      ]
    },
    {
      "cell_type": "code",
      "source": [
        "'''\n",
        "스택 (Stack)\n",
        "스택은 후입선출 (LIFO: Last In, First Out) 구조로, 가장 나중에 추가된 데이터가 가장 먼저 제거됩니다. 실생활에서 스택의 예시는 다음과 같습니다:\n",
        "\n",
        "웹 브라우저의 뒤로 가기 기능:\n",
        "사용자가 방문한 웹 페이지의 URL을 스택에 저장합니다.\n",
        "뒤로 가기 버튼을 누르면 스택의 맨 위 URL을 제거하고 해당 페이지로 이동합니다.\n",
        "재귀 함수 호출:\n",
        "함수 호출이 스택에 저장됩니다.\n",
        "함수가 종료되면 스택에서 제거됩니다.\n",
        "텍스트 편집기의 실행 취소 기능:\n",
        "사용자가 수행한 작업을 스택에 저장합니다.\n",
        "실행 취소를 누르면 스택의 맨 위 작업을 제거하고 이전 상태로 되돌립니다.\n",
        "'''\n",
        "\n",
        "# 스택 클래스\n",
        "class Stack:\n",
        "    def __init__(self):\n",
        "        self.stack = []  # 스택을 저장할 리스트\n",
        "\n",
        "    # 스택에 데이터를 추가하는 메서드 (push)\n",
        "    def push(self, data):\n",
        "        self.stack.append(data)  # 리스트의 끝에 데이터를 추가\n",
        "\n",
        "    # 스택에서 데이터를 제거하고 반환하는 메서드 (pop)\n",
        "    def pop(self):\n",
        "        if not self.is_empty():\n",
        "            return self.stack.pop()  # 리스트의 끝에서 데이터를 제거하고 반환\n",
        "        return None  # 스택이 비어 있는 경우 None 반환\n",
        "\n",
        "    # 스택의 맨 위 데이터를 반환하는 메서드 (peek)\n",
        "    def peek(self):\n",
        "        if not self.is_empty():\n",
        "            return self.stack[-1]  # 리스트의 끝 데이터를 반환\n",
        "        return None  # 스택이 비어 있는 경우 None 반환\n",
        "\n",
        "    # 스택이 비어 있는지 확인하는 메서드\n",
        "    def is_empty(self):\n",
        "        return len(self.stack) == 0  # 스택의 길이가 0이면 True 반환\n",
        "\n",
        "    # 스택의 모든 데이터를 출력하는 메서드\n",
        "    def print_stack(self):\n",
        "        print(self.stack)\n",
        "\n",
        "# 스택 사용 예제\n",
        "stack = Stack()\n",
        "stack.push(1)\n",
        "stack.push(2)\n",
        "stack.push(3)\n",
        "stack.print_stack()  # 출력: [1, 2, 3]\n",
        "print(stack.pop())  # 출력: 3\n",
        "stack.print_stack()  # 출력: [1, 2]\n",
        "print(stack.peek())  # 출력: 2"
      ],
      "metadata": {
        "colab": {
          "base_uri": "https://localhost:8080/"
        },
        "id": "6W_N9_YViSdF",
        "outputId": "fe306dd6-93f7-48ad-efab-7123fd3697d9"
      },
      "execution_count": null,
      "outputs": [
        {
          "output_type": "stream",
          "name": "stdout",
          "text": [
            "[1, 2, 3]\n",
            "3\n",
            "[1, 2]\n",
            "2\n"
          ]
        }
      ]
    },
    {
      "cell_type": "code",
      "source": [
        "'''\n",
        "큐 (Queue)\n",
        "큐는 선입선출 (FIFO: First In, First Out) 구조로, 가장 먼저 추가된 데이터가 가장 먼저 제거됩니다.\n",
        "실생활에서 큐의 예시는 다음과 같습니다:\n",
        "\n",
        "은행의 대기 줄:\n",
        "고객이 도착한 순서대로 줄을 섭니다.\n",
        "가장 먼저 도착한 고객이 먼저 서비스를 받습니다.\n",
        "\n",
        "프린터 작업 대기열:\n",
        "인쇄 작업이 큐에 추가됩니다.\n",
        "가장 먼저 추가된 작업이 먼저 인쇄됩니다.\n",
        "\n",
        "콜센터의 전화 대기열:\n",
        "고객의 전화가 도착한 순서대로 대기열에 추가됩니다.\n",
        "가장 먼저 도착한 전화가 먼저 응답됩니다.\n",
        "'''\n",
        "\n",
        "# 큐 클래스\n",
        "class Queue:\n",
        "    def __init__(self):\n",
        "        self.queue = []  # 큐를 저장할 리스트\n",
        "\n",
        "    # 큐에 데이터를 추가하는 메서드 (enqueue)\n",
        "    def enqueue(self, data):\n",
        "        self.queue.append(data)  # 리스트의 끝에 데이터를 추가\n",
        "\n",
        "    # 큐에서 데이터를 제거하고 반환하는 메서드 (dequeue)\n",
        "    def dequeue(self):\n",
        "        if not self.is_empty():\n",
        "            return self.queue.pop(0)  # 리스트의 첫 번째 데이터를 제거하고 반환\n",
        "        return None  # 큐가 비어 있는 경우 None 반환\n",
        "\n",
        "    # 큐의 맨 앞 데이터를 반환하는 메서드 (peek)\n",
        "    def peek(self):\n",
        "        if not self.is_empty():\n",
        "            return self.queue[0]  # 리스트의 첫 번째 데이터를 반환\n",
        "        return None  # 큐가 비어 있는 경우 None 반환\n",
        "\n",
        "    # 큐가 비어 있는지 확인하는 메서드\n",
        "    def is_empty(self):\n",
        "        return len(self.queue) == 0  # 큐의 길이가 0이면 True 반환\n",
        "\n",
        "    # 큐의 모든 데이터를 출력하는 메서드\n",
        "    def print_queue(self):\n",
        "        print(self.queue)\n",
        "\n",
        "# 큐 사용 예제\n",
        "queue = Queue()\n",
        "queue.enqueue(1)\n",
        "queue.enqueue(2)\n",
        "queue.enqueue(3)\n",
        "queue.print_queue()  # 출력: [1, 2, 3]\n",
        "print(queue.dequeue())  # 출력: 1\n",
        "queue.print_queue()  # 출력: [2, 3]\n",
        "print(queue.peek())  # 출력: 2\n"
      ],
      "metadata": {
        "colab": {
          "base_uri": "https://localhost:8080/"
        },
        "id": "drZFIJgAfDtY",
        "outputId": "c96e8406-922f-4427-fdec-02b3383293e2"
      },
      "execution_count": null,
      "outputs": [
        {
          "output_type": "stream",
          "name": "stdout",
          "text": [
            "[1, 2, 3]\n",
            "1\n",
            "[2, 3]\n",
            "2\n"
          ]
        }
      ]
    },
    {
      "cell_type": "code",
      "source": [
        "'''\n",
        "우선순위 큐 (Priority Queue)\n",
        "우선순위 큐는 각 데이터에 우선순위를 부여하여, 우선순위가 높은 데이터가 먼저 처리됩니다.\n",
        "실생활에서 우선순위 큐의 예시는 다음과 같습니다:\n",
        "\n",
        "응급실 환자 처리:\n",
        "환자의 상태에 따라 우선순위를 부여합니다.\n",
        "우선순위가 높은 환자가 먼저 치료를 받습니다.\n",
        "\n",
        "운영 체제의 작업 스케줄링:\n",
        "각 작업에 우선순위를 부여합니다.\n",
        "우선순위가 높은 작업이 먼저 실행됩니다.\n",
        "'''\n",
        "\n",
        "import heapq\n",
        "\n",
        "# 우선순위 큐 클래스\n",
        "class PriorityQueue:\n",
        "    def __init__(self):\n",
        "        self.pq = []  # 우선순위 큐를 저장할 리스트\n",
        "\n",
        "    # 우선순위 큐에 데이터를 추가하는 메서드 (enqueue)\n",
        "    def enqueue(self, data):\n",
        "        heapq.heappush(self.pq, data)  # 힙에 데이터를 추가\n",
        "\n",
        "    # 우선순위 큐에서 데이터를 제거하고 반환하는 메서드 (dequeue)\n",
        "    def dequeue(self):\n",
        "        if not self.is_empty():\n",
        "            return heapq.heappop(self.pq)  # 힙에서 최우선 데이터를 제거하고 반환\n",
        "        return None  # 우선순위 큐가 비어 있는 경우 None 반환\n",
        "\n",
        "    # 우선순위 큐가 비어 있는지 확인하는 메서드\n",
        "    def is_empty(self):\n",
        "        return len(self.pq) == 0  # 우선순위 큐의 길이가 0이면 True 반환\n",
        "\n",
        "    # 우선순위 큐의 모든 데이터를 출력하는 메서드\n",
        "    def print_pq(self):\n",
        "        print(self.pq)\n",
        "\n",
        "# 우선순위 큐 사용 예제\n",
        "pq = PriorityQueue()\n",
        "pq.enqueue(3)\n",
        "pq.enqueue(1)\n",
        "pq.enqueue(2)\n",
        "pq.print_pq()  # 출력: [1, 3, 2]\n",
        "print(pq.dequeue())  # 출력: 1\n",
        "pq.print_pq()  # 출력: [2, 3]\n"
      ],
      "metadata": {
        "colab": {
          "base_uri": "https://localhost:8080/"
        },
        "id": "psMdXwsCiWCN",
        "outputId": "d9c49ab4-560f-4af2-ff1d-e721ee7b7d3c"
      },
      "execution_count": null,
      "outputs": [
        {
          "output_type": "stream",
          "name": "stdout",
          "text": [
            "[1, 3, 2]\n",
            "1\n",
            "[2, 3]\n"
          ]
        }
      ]
    },
    {
      "cell_type": "code",
      "source": [
        "'''\n",
        "원형 큐 (Circular Queue)\n",
        "원형 큐는 큐의 끝이 다시 처음으로 연결되는 구조로, 고정된 크기의 큐에서 메모리를 효율적으로 사용할 수 있습니다.\n",
        "실생활에서 원형 큐의 예시는 다음과 같습니다:\n",
        "\n",
        "원형 버퍼:\n",
        "데이터 스트림을 일정 크기의 버퍼에 저장합니다.\n",
        "버퍼가 가득 차면 처음 위치로 돌아가서 덮어씁니다.\n",
        "\n",
        "라운드 로빈 스케줄링:\n",
        "각 작업을 순서대로 처리하고, 마지막 작업 후 다시 처음 작업으로 돌아갑니다.\n",
        "'''\n",
        "\n",
        "# 원형 큐 클래스\n",
        "class CircularQueue:\n",
        "    def __init__(self, size):\n",
        "        self.size = size  # 큐의 크기\n",
        "        self.queue = [None] * size  # 큐를 저장할 리스트\n",
        "        self.front = self.rear = -1  # 큐의 앞과 뒤 인덱스 초기화\n",
        "\n",
        "    # 큐에 데이터를 추가하는 메서드 (enqueue)\n",
        "    def enqueue(self, data):\n",
        "        if (self.rear + 1) % self.size == self.front:\n",
        "            print(\"Queue is Full\")  # 큐가 가득 찬 경우\n",
        "        elif self.front == -1:  # 큐가 비어 있는 경우\n",
        "            self.front = self.rear = 0\n",
        "            self.queue[self.rear] = data\n",
        "        else:\n",
        "            self.rear = (self.rear + 1) % self.size\n",
        "            self.queue[self.rear] = data\n",
        "\n",
        "    # 큐에서 데이터를 제거하고 반환하는 메서드 (dequeue)\n",
        "    def dequeue(self):\n",
        "        if self.front == -1:\n",
        "            print(\"Queue is Empty\")  # 큐가 비어 있는 경우\n",
        "            return None\n",
        "        data = self.queue[self.front]\n",
        "        if self.front == self.rear:  # 큐에 하나의 데이터만 있는 경우\n",
        "            self.front = self.rear = -1\n",
        "        else:\n",
        "            self.front = (self.front + 1) % self.size\n",
        "        return data\n",
        "\n",
        "    # 큐의 모든 데이터를 출력하는 메서드\n",
        "    def print_queue(self):\n",
        "        if self.front == -1:\n",
        "            print(\"Queue is Empty\")  # 큐가 비어 있는 경우\n",
        "        elif self.rear >= self.front:\n",
        "            print(\"Queue:\", self.queue[self.front:self.rear + 1])\n",
        "        else:\n",
        "            print(\"Queue:\", self.queue[self.front:self.size] + self.queue[0:self.rear + 1])\n",
        "\n",
        "# 원형 큐 사용 예제\n",
        "cq = CircularQueue(3)\n",
        "cq.enqueue(1)\n",
        "cq.enqueue(2)\n",
        "cq.enqueue(3)\n",
        "cq.print_queue()  # 출력: Queue is Full\n",
        "print(cq.dequeue())  # 출력: 1\n",
        "cq.print_queue()  # 출력: Queue: [2, 3]\n",
        "cq.enqueue(4)\n",
        "cq.print_queue()  # 출력: Queue: [2, 3, 4]\n"
      ],
      "metadata": {
        "colab": {
          "base_uri": "https://localhost:8080/"
        },
        "id": "VelHJzTDiWF4",
        "outputId": "b193e398-621a-47b3-8d13-29265cbca7d1"
      },
      "execution_count": null,
      "outputs": [
        {
          "output_type": "stream",
          "name": "stdout",
          "text": [
            "Queue: [1, 2, 3]\n",
            "1\n",
            "Queue: [2, 3]\n",
            "Queue: [2, 3, 4]\n"
          ]
        }
      ]
    },
    {
      "cell_type": "code",
      "source": [
        "'''\n",
        "이진 트리 (Binary Tree)\n",
        "이진 트리는 각 노드가 최대 두 개의 자식 노드를 가지는 트리입니다.\n",
        "\n",
        "\n",
        "실생활 활용 예시\n",
        "표현식 트리 (Expression Tree):\n",
        "수학적 표현식을 트리 구조로 나타냅니다.\n",
        "예를 들어, 수식 ( (a + b) * (c - d) )는 이진 트리로 표현할 수 있습니다.\n",
        "\n",
        "결정 트리 (Decision Tree):\n",
        "의사결정 과정을 트리 구조로 나타냅니다.\n",
        "예를 들어, 고객의 구매 여부를 예측하는 모델에서 사용됩니다.\n",
        "'''\n",
        "\n",
        "# 이진 트리의 노드 클래스\n",
        "class Node:\n",
        "    def __init__(self, data):\n",
        "        self.data = data  # 노드가 저장하는 데이터\n",
        "        self.left = None  # 왼쪽 자식 노드를 가리키는 포인터\n",
        "        self.right = None  # 오른쪽 자식 노드를 가리키는 포인터\n",
        "\n",
        "# 이진 트리 클래스\n",
        "class BinaryTree:\n",
        "    def __init__(self):\n",
        "        self.root = None  # 트리의 루트 노드를 가리키는 포인터\n",
        "\n",
        "    # 전위 순회 (Preorder Traversal)\n",
        "    def preorder_traversal(self, node):\n",
        "        if node:\n",
        "            print(node.data, end=\" \")  # 현재 노드의 데이터를 출력\n",
        "            self.preorder_traversal(node.left)  # 왼쪽 서브트리를 순회\n",
        "            self.preorder_traversal(node.right)  # 오른쪽 서브트리를 순회\n",
        "\n",
        "    # 중위 순회 (Inorder Traversal)\n",
        "    def inorder_traversal(self, node):\n",
        "        if node:\n",
        "            self.inorder_traversal(node.left)  # 왼쪽 서브트리를 순회\n",
        "            print(node.data, end=\" \")  # 현재 노드의 데이터를 출력\n",
        "            self.inorder_traversal(node.right)  # 오른쪽 서브트리를 순회\n",
        "\n",
        "    # 후위 순회 (Postorder Traversal)\n",
        "    def postorder_traversal(self, node):\n",
        "        if node:\n",
        "            self.postorder_traversal(node.left)  # 왼쪽 서브트리를 순회\n",
        "            self.postorder_traversal(node.right)  # 오른쪽 서브트리를 순회\n",
        "            print(node.data, end=\" \")  # 현재 노드의 데이터를 출력\n",
        "\n",
        "# 이진 트리 사용 예제\n",
        "bt = BinaryTree()\n",
        "bt.root = Node(1)\n",
        "bt.root.left = Node(2)\n",
        "bt.root.right = Node(3)\n",
        "bt.root.left.left = Node(4)\n",
        "bt.root.left.right = Node(5)\n",
        "\n",
        "print(\"Preorder Traversal:\")\n",
        "bt.preorder_traversal(bt.root)  # 출력: 1 2 4 5 3\n",
        "print(\"\\nInorder Traversal:\")\n",
        "bt.inorder_traversal(bt.root)  # 출력: 4 2 5 1 3\n",
        "print(\"\\nPostorder Traversal:\")\n",
        "bt.postorder_traversal(bt.root)  # 출력: 4 5 2 3 1\n",
        "\n",
        "\n"
      ],
      "metadata": {
        "colab": {
          "base_uri": "https://localhost:8080/"
        },
        "id": "oKqmgSPziWJr",
        "outputId": "d842f870-3824-4fb4-d949-e21f815b242c"
      },
      "execution_count": null,
      "outputs": [
        {
          "output_type": "stream",
          "name": "stdout",
          "text": [
            "Preorder Traversal:\n",
            "1 2 4 5 3 \n",
            "Inorder Traversal:\n",
            "4 2 5 1 3 \n",
            "Postorder Traversal:\n",
            "4 5 2 3 1 "
          ]
        }
      ]
    },
    {
      "cell_type": "code",
      "source": [
        "'''\n",
        "이진 탐색 트리 (BST)\n",
        "이진 탐색 트리는 이진 트리의 일종으로, 각 노드의 왼쪽 자식 노드는 부모 노드보다 작고, 오른쪽 자식 노드는 부모 노드보다 큽니다.\n",
        "\n",
        "실생활 활용 예시\n",
        "\n",
        "데이터베이스 인덱싱:\n",
        "데이터베이스에서 빠른 검색을 위해 사용됩니다.\n",
        "예를 들어, 고객 ID를 기준으로 데이터를 검색할 때 사용됩니다.\n",
        "\n",
        "사전 (Dictionary):\n",
        "단어와 그 정의를 저장하는 데 사용됩니다.\n",
        "예를 들어, 단어를 알파벳 순서로 정렬하여 빠르게 검색할 수 있습니다.\n",
        "'''\n",
        "\n",
        "# 이진 탐색 트리의 노드 클래스\n",
        "class Node:\n",
        "    def __init__(self, data):\n",
        "        self.data = data  # 노드가 저장하는 데이터\n",
        "        self.left = None  # 왼쪽 자식 노드를 가리키는 포인터\n",
        "        self.right = None  # 오른쪽 자식 노드를 가리키는 포인터\n",
        "\n",
        "# 이진 탐색 트리 클래스\n",
        "class BinarySearchTree:\n",
        "    def __init__(self):\n",
        "        self.root = None  # 트리의 루트 노드를 가리키는 포인터\n",
        "\n",
        "    # 새로운 노드를 삽입하는 메서드\n",
        "    def insert(self, data):\n",
        "        if self.root is None:\n",
        "            self.root = Node(data)  # 루트 노드가 없는 경우 새로운 노드를 루트로 설정\n",
        "        else:\n",
        "            self._insert(data, self.root)\n",
        "\n",
        "    # 재귀적으로 노드를 삽입하는 헬퍼 메서드\n",
        "    def _insert(self, data, node):\n",
        "        if data < node.data:\n",
        "            if node.left is None:\n",
        "                node.left = Node(data)  # 왼쪽 자식 노드가 없는 경우 새로운 노드를 왼쪽 자식으로 설정\n",
        "            else:\n",
        "                self._insert(data, node.left)\n",
        "        else:\n",
        "            if node.right is None:\n",
        "                node.right = Node(data)  # 오른쪽 자식 노드가 없는 경우 새로운 노드를 오른쪽 자식으로 설정\n",
        "            else:\n",
        "                self._insert(data, node.right)\n",
        "\n",
        "    # 중위 순회 (Inorder Traversal)\n",
        "    def inorder_traversal(self, node):\n",
        "        if node:\n",
        "            self.inorder_traversal(node.left)  # 왼쪽 서브트리를 순회\n",
        "            print(node.data, end=\" \")  # 현재 노드의 데이터를 출력\n",
        "            self.inorder_traversal(node.right)  # 오른쪽 서브트리를 순회\n",
        "\n",
        "# 이진 탐색 트리 사용 예제\n",
        "bst = BinarySearchTree()\n",
        "bst.insert(5)\n",
        "bst.insert(3)\n",
        "bst.insert(7)\n",
        "bst.insert(2)\n",
        "bst.insert(4)\n",
        "bst.insert(6)\n",
        "bst.insert(8)\n",
        "\n",
        "print(\"Inorder Traversal:\")\n",
        "bst.inorder_traversal(bst.root)  # 출력: 2 3 4 5 6 7 8\n"
      ],
      "metadata": {
        "colab": {
          "base_uri": "https://localhost:8080/"
        },
        "id": "FZvJHpwfiWM7",
        "outputId": "781b5953-1c14-4011-ba75-41f62239c49a"
      },
      "execution_count": null,
      "outputs": [
        {
          "output_type": "stream",
          "name": "stdout",
          "text": [
            "Inorder Traversal:\n",
            "2 3 4 5 6 7 8 "
          ]
        }
      ]
    },
    {
      "cell_type": "code",
      "source": [
        "'''\n",
        "AVL 트리\n",
        "AVL 트리는 이진 탐색 트리의 일종으로, 각 노드의 왼쪽과 오른쪽 서브트리 높이 차이가 1 이하가 되도록 유지합니다.\n",
        "\n",
        "실생활 활용 예시\n",
        "\n",
        "메모리 관리:\n",
        "운영 체제에서 메모리 블록을 효율적으로 관리하는 데 사용됩니다.\n",
        "예를 들어, 메모리 할당과 해제를 빠르게 처리할 수 있습니다.\n",
        "\n",
        "네트워크 라우팅:\n",
        "네트워크에서 최적의 경로를 찾는 데 사용됩니다.\n",
        "예를 들어, 패킷이 목적지까지 가장 빠르게 도달할 수 있는 경로를 찾습니다.\n",
        "'''\n",
        "\n",
        "# AVL 트리의 노드 클래스\n",
        "class Node:\n",
        "    def __init__(self, data):\n",
        "        self.data = data  # 노드가 저장하는 데이터\n",
        "        self.left = None  # 왼쪽 자식 노드를 가리키는 포인터\n",
        "        self.right = None  # 오른쪽 자식 노드를 가리키는 포인터\n",
        "        self.height = 1  # 노드의 높이\n",
        "\n",
        "# AVL 트리 클래스\n",
        "class AVLTree:\n",
        "    def __init__(self):\n",
        "        self.root = None  # 트리의 루트 노드를 가리키는 포인터\n",
        "\n",
        "    # 노드의 높이를 반환하는 메서드\n",
        "    def get_height(self, node):\n",
        "        if not node:\n",
        "            return 0\n",
        "        return node.height\n",
        "\n",
        "    # 노드의 균형 인수를 반환하는 메서드\n",
        "    def get_balance(self, node):\n",
        "        if not node:\n",
        "            return 0\n",
        "        return self.get_height(node.left) - self.get_height(node.right)\n",
        "\n",
        "    # 오른쪽 회전 (Right Rotation)\n",
        "    def right_rotate(self, y):\n",
        "        x = y.left\n",
        "        T2 = x.right\n",
        "        x.right = y\n",
        "        y.left = T2\n",
        "        y.height = max(self.get_height(y.left), self.get_height(y.right)) + 1\n",
        "        x.height = max(self.get_height(x.left), self.get_height(x.right)) + 1\n",
        "        return x\n",
        "\n",
        "    # 왼쪽 회전 (Left Rotation)\n",
        "    def left_rotate(self, x):\n",
        "        y = x.right\n",
        "        T2 = y.left\n",
        "        y.left = x\n",
        "        x.right = T2\n",
        "        x.height = max(self.get_height(x.left), self.get_height(x.right)) + 1\n",
        "        y.height = max(self.get_height(y.left), self.get_height(y.right)) + 1\n",
        "        return y\n",
        "\n",
        "    # 새로운 노드를 삽입하는 메서드\n",
        "    def insert(self, node, data):\n",
        "        if not node:\n",
        "            return Node(data)\n",
        "        if data < node.data:\n",
        "            node.left = self.insert(node.left, data)\n",
        "        else:\n",
        "            node.right = self.insert(node.right, data)\n",
        "\n",
        "        node.height = max(self.get_height(node.left), self.get_height(node.right)) + 1\n",
        "        balance = self.get_balance(node)\n",
        "\n",
        "        if balance > 1 and data < node.left.data:\n",
        "            return self.right_rotate(node)\n",
        "        if balance < -1 and data > node.right.data:\n",
        "            return self.left_rotate(node)\n",
        "        if balance > 1 and data > node.left.data:\n",
        "            node.left = self.left_rotate(node.left)\n",
        "            return self.right_rotate(node)\n",
        "        if balance < -1 and data < node.right.data:\n",
        "            node.right = self.right_rotate(node.right)\n",
        "            return self.left_rotate(node)\n",
        "\n",
        "        return node\n",
        "\n",
        "    # 중위 순회 (Inorder Traversal)\n",
        "    def inorder_traversal(self, node):\n",
        "        if node:\n",
        "            self.inorder_traversal(node.left)\n",
        "            print(node.data, end=\" \")\n",
        "            self.inorder_traversal(node.right)\n",
        "\n",
        "# AVL 트리 사용 예제\n",
        "avl = AVLTree()\n",
        "root = None\n",
        "root = avl.insert(root, 10)\n",
        "root = avl.insert(root, 20)\n",
        "root = avl.insert(root, 30)"
      ],
      "metadata": {
        "id": "SoIV640WiWPx"
      },
      "execution_count": null,
      "outputs": []
    },
    {
      "cell_type": "code",
      "source": [
        "'''\n",
        "힙 (Heap)\n",
        "힙은 완전 이진 트리의 일종으로, 각 노드의 값이 자식 노드의 값보다 크거나 작은 특성을 가집니다.\n",
        "\n",
        "실생활 활용 예시\n",
        "\n",
        "우선순위 큐:\n",
        "힙을 사용하여 우선순위 큐를 구현할 수 있습니다.\n",
        "예를 들어, 응급실에서 환자의 상태에 따라 우선순위를 부여하여 치료 순서를 결정합니다.\n",
        "\n",
        "힙 정렬 (Heap Sort):\n",
        "힙을 사용하여 효율적인 정렬 알고리즘을 구현할 수 있습니다.\n",
        "예를 들어, 대규모 데이터를 정렬할 때 사용됩니다.\n",
        "'''\n",
        "\n",
        "# 힙 클래스 (최소 힙)\n",
        "class MinHeap:\n",
        "    def __init__(self):\n",
        "        self.heap = []  # 힙을 저장할 리스트\n",
        "\n",
        "    # 힙에 데이터를 추가하는 메서드 (삽입)\n",
        "    def insert(self, data):\n",
        "        self.heap.append(data)  # 리스트의 끝에 데이터를 추가\n",
        "        self._heapify_up(len(self.heap) - 1)  # 힙 속성을 유지하도록 조정\n",
        "\n",
        "    # 힙에서 최솟값을 제거하고 반환하는 메서드 (삭제)\n",
        "    def extract_min(self):\n",
        "        if len(self.heap) == 0:\n",
        "            return None  # 힙이 비어 있는 경우 None 반환\n",
        "        if len(self.heap) == 1:\n",
        "            return self.heap.pop()  # 힙에 하나의 요소만 있는 경우 해당 요소 반환\n",
        "        root = self.heap[0]\n",
        "        self.heap[0] = self.heap.pop()  # 마지막 요소를 루트로 이동\n",
        "        self._heapify_down(0)  # 힙 속성을 유지하도록 조정\n",
        "        return root\n",
        "\n",
        "    # 힙 속성을 유지하도록 상향 조정하는 메서드\n",
        "    def _heapify_up(self, index):\n",
        "        parent_index = (index - 1) // 2\n",
        "        if index > 0 and self.heap[index] < self.heap[parent_index]:\n",
        "            self.heap[index], self.heap[parent_index] = self.heap[parent_index], self.heap[index]\n",
        "            self._heapify_up(parent_index)\n",
        "\n",
        "    # 힙 속성을 유지하도록 하향 조정하는 메서드\n",
        "    def _heapify_down(self, index):\n",
        "        smallest = index\n",
        "        left_child = 2 * index + 1\n",
        "        right_child = 2 * index + 2\n",
        "        if left_child < len(self.heap) and self.heap[left_child] < self.heap[smallest]:\n",
        "            smallest = left_child\n",
        "        if right_child < len(self.heap) and self.heap[right_child] < self.heap[smallest]:\n",
        "            smallest = right_child\n",
        "        if smallest != index:\n",
        "            self.heap[index], self.heap[smallest] = self.heap[smallest], self.heap[index]\n",
        "            self._heapify_down(smallest)\n",
        "\n",
        "    # 힙의 모든 데이터를 출력하는 메서드\n",
        "    def print_heap(self):\n",
        "        print(self.heap)\n",
        "\n",
        "# 힙 사용 예제\n",
        "min_heap = MinHeap()\n",
        "min_heap.insert(3)\n",
        "min_heap.insert(1)\n",
        "min_heap.insert(2)\n",
        "min_heap.print_heap()  # 출력: [1, 3, 2]\n",
        "print(min_heap.extract_min())  # 출력: 1\n",
        "min_heap.print_heap()  # 출력: [2, 3]\n"
      ],
      "metadata": {
        "colab": {
          "base_uri": "https://localhost:8080/"
        },
        "id": "IzC01SA6jPYN",
        "outputId": "b4bb52ca-78b9-4cbe-a64e-5e220caa2d96"
      },
      "execution_count": null,
      "outputs": [
        {
          "output_type": "stream",
          "name": "stdout",
          "text": [
            "[1, 3, 2]\n",
            "1\n",
            "[2, 3]\n"
          ]
        }
      ]
    },
    {
      "cell_type": "code",
      "source": [
        "'''\n",
        "트리의 순회 방법\n",
        "트리의 순회 방법에는 전위 순회 (Preorder Traversal), 중위 순회 (Inorder Traversal), **후위 순회 (Postorder Traversal)**가 있습니다.\n",
        "\n",
        "실생활 활용 예시\n",
        "전위 순회 (Preorder Traversal):\n",
        "파일 시스템에서 디렉토리와 파일을 복사할 때 사용됩니다.\n",
        "예를 들어, 루트 디렉토리에서 시작하여 모든 하위 디렉토리와 파일을 순서대로 복사합니다.\n",
        "중위 순회 (Inorder Traversal):\n",
        "이진 탐색 트리에서 데이터를 정렬된 순서로 출력할 때 사용됩니다.\n",
        "예를 들어, 사전에서 단어를 알파벳 순서로 출력합니다.\n",
        "후위 순회 (Postorder Traversal):\n",
        "디렉토리와 파일을 삭제할 때 사용됩니다.\n",
        "예를 들어, 루트 디렉토리에서 시작하여 모든 하위 디렉토리와 파일을 순서대로 삭제합니다.\n",
        "'''\n",
        "\n",
        "# 이진 트리의 노드 클래스\n",
        "class Node:\n",
        "    def __init__(self, data):\n",
        "        self.data = data  # 노드가 저장하는 데이터\n",
        "        self.left = None  # 왼쪽 자식 노드를 가리키는 포인터\n",
        "        self.right = None  # 오른쪽 자식 노드를 가리키는 포인터\n",
        "\n",
        "# 이진 트리 클래스\n",
        "class BinaryTree:\n",
        "    def __init__(self):\n",
        "        self.root = None  # 트리의 루트 노드를 가리키는 포인터\n",
        "\n",
        "    # 전위 순회 (Preorder Traversal)\n",
        "    def preorder_traversal(self, node):\n",
        "        if node:\n",
        "            print(node.data, end=\" \")  # 현재 노드의 데이터를 출력\n",
        "            self.preorder_traversal(node.left)  # 왼쪽 서브트리를 순회\n",
        "            self.preorder_traversal(node.right)  # 오른쪽 서브트리를 순회\n",
        "\n",
        "    # 중위 순회 (Inorder Traversal)\n",
        "    def inorder_traversal(self, node):\n",
        "        if node:\n",
        "            self.inorder_traversal(node.left)  # 왼쪽 서브트리를 순회\n",
        "            print(node.data, end=\" \")  # 현재 노드의 데이터를 출력\n",
        "            self.inorder_traversal(node.right)  # 오른쪽 서브트리를 순회\n",
        "\n",
        "    # 후위 순회 (Postorder Traversal)\n",
        "    def postorder_traversal(self, node):\n",
        "        if node:\n",
        "            self.postorder_traversal(node.left)  # 왼쪽 서브트리를 순회\n",
        "            self.postorder_traversal(node.right)  # 오른쪽 서브트리를 순회\n",
        "            print(node.data, end=\" \")  # 현재 노드의 데이터를 출력\n",
        "\n",
        "# 이진 트리 사용 예제\n",
        "bt = BinaryTree()\n",
        "bt.root = Node(1)\n",
        "bt.root.left = Node(2)\n",
        "bt.root.right = Node(3)\n",
        "bt.root.left.left = Node(4)\n",
        "bt.root.left.right = Node(5)\n",
        "\n",
        "print(\"Preorder Traversal:\")\n",
        "bt.preorder_traversal(bt.root)  # 출력: 1 2 4 5 3\n",
        "print(\"\\nInorder Traversal:\")\n",
        "bt.inorder_traversal(bt.root)  # 출력: 4 2 5 1 3\n",
        "print(\"\\nPostorder Traversal:\")\n",
        "bt.postorder_traversal(bt.root)  # 출력: 4 5 2 3 1\n"
      ],
      "metadata": {
        "colab": {
          "base_uri": "https://localhost:8080/"
        },
        "id": "e8LvzdRKjPb5",
        "outputId": "8d22bef1-2522-4bd8-d99c-e4eec3ce2242"
      },
      "execution_count": null,
      "outputs": [
        {
          "output_type": "stream",
          "name": "stdout",
          "text": [
            "Preorder Traversal:\n",
            "1 2 4 5 3 \n",
            "Inorder Traversal:\n",
            "4 2 5 1 3 \n",
            "Postorder Traversal:\n",
            "4 5 2 3 1 "
          ]
        }
      ]
    },
    {
      "cell_type": "code",
      "source": [
        "'''\n",
        "그래프는 **정점 (Vertex)**과 **간선 (Edge)**으로 구성된 자료구조로, 정점 간의 관계를 나타냅니다. 그래프는 방향 그래프와 무방향 그래프로 나뉩니다.\n",
        "\n",
        "실생활 활용 예시\n",
        "\n",
        "소셜 네트워크:\n",
        "사용자(정점)와 친구 관계(간선)를 나타냅니다.\n",
        "예를 들어, 페이스북에서 친구 관계를 그래프로 표현할 수 있습니다.\n",
        "\n",
        "지도와 경로 찾기:\n",
        "장소(정점)와 도로(간선)를 나타냅니다.\n",
        "예를 들어, 구글 맵에서 최단 경로를 찾는 알고리즘에 사용됩니다.\n",
        "그래프의 표현 방법\n",
        "그래프를 표현하는 방법에는 **인접 행렬 (Adjacency Matrix)**과 **인접 리스트 (Adjacency List)**가 있습니다.\n",
        "'''"
      ],
      "metadata": {
        "colab": {
          "base_uri": "https://localhost:8080/",
          "height": 90
        },
        "id": "sJiyEG8ljPfo",
        "outputId": "a3427085-2c2b-47fc-a48c-87d72348ab28"
      },
      "execution_count": null,
      "outputs": [
        {
          "output_type": "execute_result",
          "data": {
            "text/plain": [
              "'\\n그래프는 **정점 (Vertex)**과 **간선 (Edge)**으로 구성된 자료구조로, 정점 간의 관계를 나타냅니다. 그래프는 방향 그래프와 무방향 그래프로 나뉩니다.\\n\\n실생활 활용 예시\\n\\n소셜 네트워크:\\n사용자(정점)와 친구 관계(간선)를 나타냅니다.\\n예를 들어, 페이스북에서 친구 관계를 그래프로 표현할 수 있습니다.\\n\\n지도와 경로 찾기:\\n장소(정점)와 도로(간선)를 나타냅니다.\\n예를 들어, 구글 맵에서 최단 경로를 찾는 알고리즘에 사용됩니다.\\n그래프의 표현 방법\\n그래프를 표현하는 방법에는 **인접 행렬 (Adjacency Matrix)**과 **인접 리스트 (Adjacency List)**가 있습니다.\\n'"
            ],
            "application/vnd.google.colaboratory.intrinsic+json": {
              "type": "string"
            }
          },
          "metadata": {},
          "execution_count": 30
        }
      ]
    },
    {
      "cell_type": "code",
      "source": [
        "# 인접 행렬은 정점 간의 연결 관계를 2차원 배열로 나타냅니다.\n",
        "\n",
        "# 인접 행렬을 사용한 그래프 표현\n",
        "class GraphMatrix:\n",
        "    def __init__(self, size):\n",
        "        self.size = size  # 그래프의 크기 (정점의 수)\n",
        "        self.matrix = [[0] * size for _ in range(size)]  # 2차원 배열 초기화\n",
        "\n",
        "    # 간선을 추가하는 메서드\n",
        "    def add_edge(self, u, v):\n",
        "        self.matrix[u][v] = 1  # 정점 u에서 정점 v로의 간선 추가\n",
        "        self.matrix[v][u] = 1  # 무방향 그래프의 경우, 정점 v에서 정점 u로의 간선 추가\n",
        "\n",
        "    # 그래프를 출력하는 메서드\n",
        "    def print_graph(self):\n",
        "        for row in self.matrix:\n",
        "            print(row)\n",
        "\n",
        "# 인접 행렬 사용 예제\n",
        "graph_matrix = GraphMatrix(4)\n",
        "graph_matrix.add_edge(0, 1)\n",
        "graph_matrix.add_edge(0, 2)\n",
        "graph_matrix.add_edge(1, 2)\n",
        "graph_matrix.add_edge(2, 3)\n",
        "graph_matrix.print_graph()\n",
        "# 출력:\n",
        "# [0, 1, 1, 0]\n",
        "# [1, 0, 1, 0]\n",
        "# [1, 1, 0, 1]\n",
        "# [0, 0, 1, 0]\n"
      ],
      "metadata": {
        "colab": {
          "base_uri": "https://localhost:8080/"
        },
        "id": "xhvArPC0jPln",
        "outputId": "e2f59370-4984-457f-9ec8-d08c0dcdc1ad"
      },
      "execution_count": null,
      "outputs": [
        {
          "output_type": "stream",
          "name": "stdout",
          "text": [
            "[0, 1, 1, 0]\n",
            "[1, 0, 1, 0]\n",
            "[1, 1, 0, 1]\n",
            "[0, 0, 1, 0]\n"
          ]
        }
      ]
    },
    {
      "cell_type": "code",
      "source": [
        "# 인접 리스트는 각 정점에 연결된 정점들을 리스트로 나타냅니다.\n",
        "\n",
        "# 인접 리스트를 사용한 그래프 표현\n",
        "class GraphList:\n",
        "    def __init__(self, size):\n",
        "        self.size = size  # 그래프의 크기 (정점의 수)\n",
        "        self.adj_list = [[] for _ in range(size)]  # 인접 리스트 초기화\n",
        "\n",
        "    # 간선을 추가하는 메서드\n",
        "    def add_edge(self, u, v):\n",
        "        self.adj_list[u].append(v)  # 정점 u에서 정점 v로의 간선 추가\n",
        "        self.adj_list[v].append(u)  # 무방향 그래프의 경우, 정점 v에서 정점 u로의 간선 추가\n",
        "\n",
        "    # 그래프를 출력하는 메서드\n",
        "    def print_graph(self):\n",
        "        for i in range(self.size):\n",
        "            print(f\"{i}: {self.adj_list[i]}\")\n",
        "\n",
        "# 인접 리스트 사용 예제\n",
        "graph_list = GraphList(4)\n",
        "graph_list.add_edge(0, 1)\n",
        "graph_list.add_edge(0, 2)\n",
        "graph_list.add_edge(1, 2)\n",
        "graph_list.add_edge(2, 3)\n",
        "graph_list.print_graph()\n",
        "# 출력:\n",
        "# 0: [1, 2]\n",
        "# 1: [2, 0]\n",
        "# 2: [3, 0, 1]\n",
        "# 3: [2]\n"
      ],
      "metadata": {
        "colab": {
          "base_uri": "https://localhost:8080/"
        },
        "id": "Ty1dSfwujPuf",
        "outputId": "9b3d7b5c-e426-4eae-9903-14b57dd7dc4e"
      },
      "execution_count": null,
      "outputs": [
        {
          "output_type": "stream",
          "name": "stdout",
          "text": [
            "0: [1, 2]\n",
            "1: [0, 2]\n",
            "2: [0, 1, 3]\n",
            "3: [2]\n"
          ]
        }
      ]
    },
    {
      "cell_type": "code",
      "source": [
        "'''\n",
        "깊이 우선 탐색 (DFS)\n",
        "DFS는 한 정점에서 시작하여 가능한 깊이까지 탐색한 후, 다시 돌아와 다른 경로를 탐색하는 방법입니다.\n",
        "\n",
        "실생활 활용 예시\n",
        "\n",
        "미로 찾기:\n",
        "미로의 출발점에서 시작하여 가능한 깊이까지 탐색하여 출구를 찾습니다.\n",
        "\n",
        "퍼즐 해결:\n",
        "퍼즐의 가능한 모든 경로를 탐색하여 해결책을 찾습니다.\n",
        "'''"
      ],
      "metadata": {
        "colab": {
          "base_uri": "https://localhost:8080/",
          "height": 72
        },
        "id": "xXJx4O_hjPy3",
        "outputId": "6662e0fd-2b3e-4427-e24e-36517e61b92c"
      },
      "execution_count": null,
      "outputs": [
        {
          "output_type": "execute_result",
          "data": {
            "text/plain": [
              "'\\n깊이 우선 탐색 (DFS)\\nDFS는 한 정점에서 시작하여 가능한 깊이까지 탐색한 후, 다시 돌아와 다른 경로를 탐색하는 방법입니다.\\n\\n실생활 활용 예시\\n\\n미로 찾기:\\n미로의 출발점에서 시작하여 가능한 깊이까지 탐색하여 출구를 찾습니다.\\n\\n퍼즐 해결:\\n퍼즐의 가능한 모든 경로를 탐색하여 해결책을 찾습니다.\\n'"
            ],
            "application/vnd.google.colaboratory.intrinsic+json": {
              "type": "string"
            }
          },
          "metadata": {},
          "execution_count": 33
        }
      ]
    },
    {
      "cell_type": "code",
      "source": [
        "'''\n",
        "깊이 우선 탐색 (DFS)\n",
        "DFS는 한 정점에서 시작하여 가능한 깊이까지 탐색한 후, 다시 돌아와 다른 경로를 탐색하는 방법입니다.\n",
        "\n",
        "실생활 활용 예시\n",
        "\n",
        "미로 찾기:\n",
        "미로의 출발점에서 시작하여 가능한 깊이까지 탐색하여 출구를 찾습니다.\n",
        "\n",
        "퍼즐 해결:\n",
        "퍼즐의 가능한 모든 경로를 탐색하여 해결책을 찾습니다.\n",
        "'''\n",
        "\n",
        "# 깊이 우선 탐색 (DFS) 구현\n",
        "def dfs(graph, start, visited=None):\n",
        "    if visited is None:\n",
        "        visited = set()\n",
        "    visited.add(start)\n",
        "    print(start, end=\" \")\n",
        "    for next in graph[start] - visited:\n",
        "        dfs(graph, next, visited)\n",
        "    return visited\n",
        "\n",
        "# 그래프 표현 (인접 리스트)\n",
        "graph = {\n",
        "    0: {1, 2},\n",
        "    1: {0, 2},\n",
        "    2: {0, 1, 3},\n",
        "    3: {2}\n",
        "}\n",
        "\n",
        "# DFS 사용 예제\n",
        "print(\"DFS Traversal:\")\n",
        "dfs(graph, 0)  # 출력: 0 1 2 3\n"
      ],
      "metadata": {
        "colab": {
          "base_uri": "https://localhost:8080/"
        },
        "id": "hZcaNXTllpOi",
        "outputId": "926a0072-2616-4db6-89b6-8474cf9c6c8e"
      },
      "execution_count": null,
      "outputs": [
        {
          "output_type": "stream",
          "name": "stdout",
          "text": [
            "DFS Traversal:\n",
            "0 1 2 3 2 "
          ]
        },
        {
          "output_type": "execute_result",
          "data": {
            "text/plain": [
              "{0, 1, 2, 3}"
            ]
          },
          "metadata": {},
          "execution_count": 34
        }
      ]
    },
    {
      "cell_type": "code",
      "source": [
        "'''\n",
        "너비 우선 탐색 (BFS)\n",
        "BFS는 한 정점에서 시작하여 인접한 정점을 모두 탐색한 후, 다음 깊이로 이동하여 탐색하는 방법입니다.\n",
        "\n",
        "실생활 활용 예시\n",
        "\n",
        "최단 경로 찾기:\n",
        "그래프에서 두 정점 간의 최단 경로를 찾습니다.\n",
        "예를 들어, 지도에서 두 장소 간의 최단 경로를 찾습니다.\n",
        "\n",
        "웹 크롤링:\n",
        "웹 페이지를 너비 우선으로 탐색하여 링크를 수집합니다.\n",
        "'''\n",
        "\n",
        "from collections import deque\n",
        "\n",
        "# 너비 우선 탐색 (BFS) 구현\n",
        "def bfs(graph, start):\n",
        "    visited = set()\n",
        "    queue = deque([start])\n",
        "    visited.add(start)\n",
        "    while queue:\n",
        "        vertex = queue.popleft()\n",
        "        print(vertex, end=\" \")\n",
        "        for next in graph[vertex] - visited:\n",
        "            visited.add(next)\n",
        "            queue.append(next)\n",
        "\n",
        "# 그래프 표현 (인접 리스트)\n",
        "graph = {\n",
        "    0: {1, 2},\n",
        "    1: {0, 2},\n",
        "    2: {0, 1, 3},\n",
        "    3: {2}\n",
        "}\n",
        "\n",
        "# BFS 사용 예제\n",
        "print(\"BFS Traversal:\")\n",
        "bfs(graph, 0)  # 출력: 0 1 2 3\n"
      ],
      "metadata": {
        "colab": {
          "base_uri": "https://localhost:8080/"
        },
        "id": "1cABPwGNlpaT",
        "outputId": "05c281ff-eae7-453e-dde2-8e6e73d03464"
      },
      "execution_count": null,
      "outputs": [
        {
          "output_type": "stream",
          "name": "stdout",
          "text": [
            "BFS Traversal:\n",
            "0 1 2 3 "
          ]
        }
      ]
    },
    {
      "cell_type": "code",
      "source": [
        "'''\n",
        "해시 테이블의 개념\n",
        "해시 테이블은 **키-값 쌍 (Key-Value Pair)**을 저장하는 자료구조로, 해싱 함수를 사용하여 키를 인덱스로 변환하고, 해당 인덱스에 값을 저장합니다. 해시 테이블은 빠른 검색, 삽입, 삭제가 가능하여 효율적인 데이터 관리를 제공합니다.\n",
        "\n",
        "실생활 활용 예시\n",
        "\n",
        "전화번호부:\n",
        "사람의 이름을 키로, 전화번호를 값으로 저장합니다.\n",
        "예를 들어, \"John Doe\"라는 이름을 해싱하여 인덱스를 생성하고, 해당 인덱스에 전화번호를 저장합니다.\n",
        "\n",
        "캐싱 (Caching):\n",
        "자주 사용하는 데이터를 해시 테이블에 저장하여 빠르게 접근합니다.\n",
        "예를 들어, 웹 페이지를 캐싱하여 빠르게 로드할 수 있습니다.\n",
        "'''"
      ],
      "metadata": {
        "colab": {
          "base_uri": "https://localhost:8080/",
          "height": 108
        },
        "id": "VBIKS8onlpeu",
        "outputId": "9d708968-4d47-402d-e2de-9aa3a5291f31"
      },
      "execution_count": null,
      "outputs": [
        {
          "output_type": "execute_result",
          "data": {
            "text/plain": [
              "'\\n해시 테이블의 개념\\n해시 테이블은 **키-값 쌍 (Key-Value Pair)**을 저장하는 자료구조로, 해싱 함수를 사용하여 키를 인덱스로 변환하고, 해당 인덱스에 값을 저장합니다. 해시 테이블은 빠른 검색, 삽입, 삭제가 가능하여 효율적인 데이터 관리를 제공합니다.\\n\\n실생활 활용 예시\\n\\n전화번호부:\\n사람의 이름을 키로, 전화번호를 값으로 저장합니다.\\n예를 들어, \"John Doe\"라는 이름을 해싱하여 인덱스를 생성하고, 해당 인덱스에 전화번호를 저장합니다.\\n\\n캐싱 (Caching):\\n자주 사용하는 데이터를 해시 테이블에 저장하여 빠르게 접근합니다.\\n예를 들어, 웹 페이지를 캐싱하여 빠르게 로드할 수 있습니다.\\n'"
            ],
            "application/vnd.google.colaboratory.intrinsic+json": {
              "type": "string"
            }
          },
          "metadata": {},
          "execution_count": 36
        }
      ]
    },
    {
      "cell_type": "code",
      "source": [
        "'''\n",
        "해싱 함수\n",
        "해싱 함수는 키를 입력받아 고정된 크기의 해시 값을 반환하는 함수입니다. 해싱 함수는 키를 인덱스로 변환하여 해시 테이블에 저장할 위치를 결정합니다.\n",
        "'''\n",
        "\n",
        "# 간단한 해싱 함수 예제\n",
        "def simple_hash(key, table_size):\n",
        "    return hash(key) % table_size\n",
        "\n",
        "# 해싱 함수 사용 예제\n",
        "key = \"John Doe\"\n",
        "table_size = 10\n",
        "index = simple_hash(key, table_size)\n",
        "print(f\"Index for key '{key}': {index}\")\n",
        "\n"
      ],
      "metadata": {
        "colab": {
          "base_uri": "https://localhost:8080/"
        },
        "id": "AJsGHW7glpkC",
        "outputId": "612fa105-e218-4172-f1fb-7e62771d445a"
      },
      "execution_count": null,
      "outputs": [
        {
          "output_type": "stream",
          "name": "stdout",
          "text": [
            "Index for key 'John Doe': 2\n"
          ]
        }
      ]
    },
    {
      "cell_type": "code",
      "source": [
        "'''\n",
        "충돌 해결 방법\n",
        "해시 테이블에서 두 개 이상의 키가 동일한 해시 값을 가질 때 **충돌 (Collision)**이 발생합니다. 충돌을 해결하는 방법에는 **체이닝 (Chaining)**과 **오픈 어드레싱 (Open Addressing)**이 있습니다.\n",
        "\n",
        "체이닝 (Chaining)\n",
        "체이닝은 각 인덱스에 연결 리스트를 사용하여 충돌을 해결합니다. 동일한 해시 값을 가지는 키-값 쌍을 연결 리스트에 저장합니다.\n",
        "'''\n",
        "\n",
        "# 체이닝을 사용한 해시 테이블 클래스\n",
        "class HashTableChaining:\n",
        "    def __init__(self, size):\n",
        "        self.size = size  # 해시 테이블의 크기\n",
        "        self.table = [[] for _ in range(size)]  # 해시 테이블 초기화\n",
        "\n",
        "    # 키-값 쌍을 삽입하는 메서드\n",
        "    def insert(self, key, value):\n",
        "        index = simple_hash(key, self.size)  # 해시 값을 계산하여 인덱스를 결정\n",
        "        self.table[index].append((key, value))  # 연결 리스트에 키-값 쌍을 추가\n",
        "\n",
        "    # 값을 검색하는 메서드\n",
        "    def search(self, key):\n",
        "        index = simple_hash(key, self.size)  # 해시 값을 계산하여 인덱스를 결정\n",
        "        for k, v in self.table[index]:\n",
        "            if k == key:\n",
        "                return v  # 키가 일치하는 값을 반환\n",
        "        return None  # 키가 존재하지 않는 경우 None 반환\n",
        "\n",
        "    # 해시 테이블을 출력하는 메서드\n",
        "    def print_table(self):\n",
        "        for i, bucket in enumerate(self.table):\n",
        "            print(f\"Index {i}: {bucket}\")\n",
        "\n",
        "# 체이닝을 사용한 해시 테이블 사용 예제\n",
        "hash_table = HashTableChaining(10)\n",
        "hash_table.insert(\"John Doe\", \"123-456-7890\")\n",
        "hash_table.insert(\"Jane Doe\", \"098-765-4321\")\n",
        "hash_table.print_table()\n",
        "print(hash_table.search(\"John Doe\"))  # 출력: 123-456-7890\n"
      ],
      "metadata": {
        "colab": {
          "base_uri": "https://localhost:8080/"
        },
        "id": "9wquC4wflpni",
        "outputId": "d125e0fe-50d3-43aa-a34f-17b7607dcd2e"
      },
      "execution_count": null,
      "outputs": [
        {
          "output_type": "stream",
          "name": "stdout",
          "text": [
            "Index 0: []\n",
            "Index 1: []\n",
            "Index 2: [('John Doe', '123-456-7890')]\n",
            "Index 3: []\n",
            "Index 4: [('Jane Doe', '098-765-4321')]\n",
            "Index 5: []\n",
            "Index 6: []\n",
            "Index 7: []\n",
            "Index 8: []\n",
            "Index 9: []\n",
            "123-456-7890\n"
          ]
        }
      ]
    },
    {
      "cell_type": "code",
      "source": [
        "'''\n",
        "오픈 어드레싱 (Open Addressing)\n",
        "오픈 어드레싱은 충돌이 발생할 경우, 해시 테이블 내의 다른 빈 슬롯을 찾아 값을 저장합니다.\n",
        "오픈 어드레싱의 방법에는 선형 탐사 (Linear Probing), 제곱 탐사 (Quadratic Probing), **이중 해싱 (Double Hashing)**이 있습니다.\n",
        "'''\n",
        "\n",
        "# 선형 탐사를 사용한 해시 테이블 클래스\n",
        "class HashTableOpenAddressing:\n",
        "    def __init__(self, size):\n",
        "        self.size = size  # 해시 테이블의 크기\n",
        "        self.table = [None] * size  # 해시 테이블 초기화\n",
        "\n",
        "    # 키-값 쌍을 삽입하는 메서드\n",
        "    def insert(self, key, value):\n",
        "        index = simple_hash(key, self.size)  # 해시 값을 계산하여 인덱스를 결정\n",
        "        while self.table[index] is not None:\n",
        "            index = (index + 1) % self.size  # 다음 인덱스로 이동 (선형 탐사)\n",
        "        self.table[index] = (key, value)  # 빈 슬롯에 키-값 쌍을 저장\n",
        "\n",
        "    # 값을 검색하는 메서드\n",
        "    def search(self, key):\n",
        "        index = simple_hash(key, self.size)  # 해시 값을 계산하여 인덱스를 결정\n",
        "        start_index = index\n",
        "        while self.table[index] is not None:\n",
        "            k, v = self.table[index]\n",
        "            if k == key:\n",
        "                return v  # 키가 일치하는 값을 반환\n",
        "            index = (index + 1) % self.size  # 다음 인덱스로 이동 (선형 탐사)\n",
        "            if index == start_index:\n",
        "                break  # 테이블을 한 바퀴 돌면 종료\n",
        "        return None  # 키가 존재하지 않는 경우 None 반환\n",
        "\n",
        "    # 해시 테이블을 출력하는 메서드\n",
        "    def print_table(self):\n",
        "        for i, entry in enumerate(self.table):\n",
        "            print(f\"Index {i}: {entry}\")\n",
        "\n",
        "# 선형 탐사를 사용한 해시 테이블 사용 예제\n",
        "hash_table = HashTableOpenAddressing(10)\n",
        "hash_table.insert(\"John Doe\", \"123-456-7890\")\n",
        "hash_table.insert(\"Jane Doe\", \"098-765-4321\")\n",
        "hash_table.print_table()\n",
        "print(hash_table.search(\"John Doe\"))  # 출력: 123-456-7890\n"
      ],
      "metadata": {
        "colab": {
          "base_uri": "https://localhost:8080/"
        },
        "id": "MdsCxgkilpqg",
        "outputId": "2213dccf-5eb7-4cff-80b0-5a57d703cb6a"
      },
      "execution_count": null,
      "outputs": [
        {
          "output_type": "stream",
          "name": "stdout",
          "text": [
            "Index 0: None\n",
            "Index 1: None\n",
            "Index 2: ('John Doe', '123-456-7890')\n",
            "Index 3: None\n",
            "Index 4: ('Jane Doe', '098-765-4321')\n",
            "Index 5: None\n",
            "Index 6: None\n",
            "Index 7: None\n",
            "Index 8: None\n",
            "Index 9: None\n",
            "123-456-7890\n"
          ]
        }
      ]
    },
    {
      "cell_type": "code",
      "source": [
        "'''\n",
        "버블 정렬 (Bubble Sort)\n",
        "버블 정렬은 인접한 두 요소를 비교하여 정렬하는 단순한 알고리즘입니다. 가장 큰 요소가 맨 끝으로 \"버블\"처럼 올라갑니다.\n",
        "\n",
        "실생활 활용 예시\n",
        "카드 정렬:\n",
        "카드 게임에서 손에 든 카드를 정렬할 때 사용합니다.\n",
        "예를 들어, 숫자 순서대로 카드를 정렬합니다.\n",
        "'''\n",
        "\n",
        "# 버블 정렬 구현\n",
        "def bubble_sort(arr):\n",
        "    n = len(arr)  # 배열의 길이를 변수 n에 저장\n",
        "    for i in range(n):  # 배열의 모든 요소를 반복\n",
        "        for j in range(0, n-i-1):  # 이미 정렬된 요소를 제외하고 반복\n",
        "            if arr[j] > arr[j+1]:  # 인접한 두 요소를 비교\n",
        "                arr[j], arr[j+1] = arr[j+1], arr[j]  # 두 요소를 교환\n",
        "\n",
        "# 버블 정렬 사용 예제\n",
        "arr = [64, 34, 25, 12, 22, 11, 90]\n",
        "bubble_sort(arr)\n",
        "print(\"Sorted array:\", arr)  # 출력: [11, 12, 22, 25, 34, 64, 90]\n"
      ],
      "metadata": {
        "colab": {
          "base_uri": "https://localhost:8080/"
        },
        "id": "EwxO-GJnnvlP",
        "outputId": "6df3c312-21c6-4d1d-94db-e6308f241ad0"
      },
      "execution_count": null,
      "outputs": [
        {
          "output_type": "stream",
          "name": "stdout",
          "text": [
            "Sorted array: [11, 12, 22, 25, 34, 64, 90]\n"
          ]
        }
      ]
    },
    {
      "cell_type": "code",
      "source": [
        "'''\n",
        "선택 정렬 (Selection Sort)\n",
        "선택 정렬은 리스트에서 가장 작은 요소를 찾아 맨 앞의 요소와 교환하는 방식으로 정렬합니다.\n",
        "\n",
        "실생활 활용 예시\n",
        "\n",
        "선수 선발:\n",
        "운동 경기에서 가장 뛰어난 선수를 선발할 때 사용합니다.\n",
        "예를 들어, 가장 빠른 선수를 먼저 선발합니다.\n",
        "'''\n",
        "\n",
        "# 선택 정렬 구현\n",
        "def selection_sort(arr):\n",
        "    n = len(arr)  # 배열의 길이를 변수 n에 저장\n",
        "    for i in range(n):  # 배열의 모든 요소를 반복\n",
        "        min_idx = i  # 현재 위치를 최소값 인덱스로 설정\n",
        "        for j in range(i+1, n):  # 현재 위치 이후의 요소를 반복\n",
        "            if arr[j] < arr[min_idx]:  # 더 작은 값을 찾으면\n",
        "                min_idx = j  # 최소값 인덱스를 업데이트\n",
        "        arr[i], arr[min_idx] = arr[min_idx], arr[i]  # 현재 위치와 최소값 위치를 교환\n",
        "\n",
        "# 선택 정렬 사용 예제\n",
        "arr = [64, 25, 12, 22, 11]\n",
        "selection_sort(arr)\n",
        "print(\"Sorted array:\", arr)  # 출력: [11, 12, 22, 25, 64]\n"
      ],
      "metadata": {
        "colab": {
          "base_uri": "https://localhost:8080/"
        },
        "id": "uPY4CpX_oHM8",
        "outputId": "1772e13b-7a60-487d-f92f-4ddcf4532573"
      },
      "execution_count": null,
      "outputs": [
        {
          "output_type": "stream",
          "name": "stdout",
          "text": [
            "Sorted array: [11, 12, 22, 25, 64]\n"
          ]
        }
      ]
    },
    {
      "cell_type": "code",
      "source": [
        "'''\n",
        "삽입 정렬 (Insertion Sort)\n",
        "삽입 정렬은 정렬된 부분과 정렬되지 않은 부분으로 나누어, 정렬되지 않은 요소를 정렬된 부분에 삽입하는 방식으로 정렬합니다.\n",
        "\n",
        "실생활 활용 예시\n",
        "\n",
        "카드 게임:\n",
        "카드 게임에서 손에 든 카드를 정렬할 때 사용합니다.\n",
        "예를 들어, 새로운 카드를 손에 추가할 때 정렬된 위치에 삽입합니다.\n",
        "'''\n",
        "\n",
        "# 삽입 정렬 구현\n",
        "def insertion_sort(arr):\n",
        "    for i in range(1, len(arr)):  # 두 번째 요소부터 시작하여 반복\n",
        "        key = arr[i]  # 현재 요소를 키로 설정\n",
        "        j = i - 1  # 키의 이전 위치를 변수 j에 저장\n",
        "        while j >= 0 and key < arr[j]:  # 키보다 큰 요소를 찾을 때까지 반복\n",
        "            arr[j + 1] = arr[j]  # 요소를 오른쪽으로 이동\n",
        "            j -= 1  # 인덱스를 감소\n",
        "        arr[j + 1] = key  # 키를 정렬된 위치에 삽입\n",
        "\n",
        "# 삽입 정렬 사용 예제\n",
        "arr = [12, 11, 13, 5, 6]\n",
        "insertion_sort(arr)\n",
        "print(\"Sorted array:\", arr)  # 출력: [5, 6, 11, 12, 13]\n"
      ],
      "metadata": {
        "colab": {
          "base_uri": "https://localhost:8080/"
        },
        "id": "IDUTEPH4nvpL",
        "outputId": "a4a60760-49c1-4eb9-fdb0-39a9dbec4257"
      },
      "execution_count": null,
      "outputs": [
        {
          "output_type": "stream",
          "name": "stdout",
          "text": [
            "Sorted array: [5, 6, 11, 12, 13]\n"
          ]
        }
      ]
    },
    {
      "cell_type": "code",
      "source": [
        "'''\n",
        "퀵 정렬 (Quick Sort)\n",
        "퀵 정렬은 피벗을 선택하고, 피벗보다 작은 요소는 왼쪽, 큰 요소는 오른쪽으로 분할하여 정렬합니다.\n",
        "\n",
        "실생활 활용 예시\n",
        "\n",
        "도서 정리:\n",
        "도서관에서 책을 정렬할 때 사용합니다.\n",
        "예를 들어, 책을 제목 순서대로 정렬합니다.\n",
        "'''\n",
        "\n",
        "# 퀵 정렬 구현\n",
        "def quick_sort(arr):\n",
        "    if len(arr) <= 1:  # 배열의 길이가 1 이하이면 이미 정렬된 상태\n",
        "        return arr\n",
        "    pivot = arr[len(arr) // 2]  # 배열의 중간 요소를 피벗으로 선택\n",
        "    left = [x for x in arr if x < pivot]  # 피벗보다 작은 요소들\n",
        "    middle = [x for x in arr if x == pivot]  # 피벗과 같은 요소들\n",
        "    right = [x for x in arr if x > pivot]  # 피벗보다 큰 요소들\n",
        "    return quick_sort(left) + middle + quick_sort(right)  # 재귀적으로 정렬하고 병합\n",
        "\n",
        "# 퀵 정렬 사용 예제\n",
        "arr = [3, 6, 8, 10, 1, 2, 1]\n",
        "print(\"Sorted array:\", quick_sort(arr))  # 출력: [1, 1, 2, 3, 6, 8, 10]\n"
      ],
      "metadata": {
        "colab": {
          "base_uri": "https://localhost:8080/"
        },
        "id": "CPmShJeQnvtL",
        "outputId": "a1d66274-dc73-4227-c378-652ed38d6a5f"
      },
      "execution_count": null,
      "outputs": [
        {
          "output_type": "stream",
          "name": "stdout",
          "text": [
            "Sorted array: [1, 1, 2, 3, 6, 8, 10]\n"
          ]
        }
      ]
    },
    {
      "cell_type": "code",
      "source": [
        "'''\n",
        "병합 정렬 (Merge Sort)\n",
        "병합 정렬은 리스트를 반으로 나누고, 각각을 재귀적으로 정렬한 후 병합하여 정렬합니다.\n",
        "\n",
        "실생활 활용 예시\n",
        "\n",
        "병합 작업:\n",
        "두 개의 정렬된 리스트를 병합할 때 사용합니다.\n",
        "예를 들어, 두 개의 정렬된 파일을 하나로 병합합니다.\n",
        "'''\n",
        "\n",
        "# 병합 정렬 구현\n",
        "def merge_sort(arr):\n",
        "    if len(arr) <= 1:  # 배열의 길이가 1 이하이면 이미 정렬된 상태\n",
        "        return arr\n",
        "    mid = len(arr) // 2  # 배열을 반으로 나눔\n",
        "    left = merge_sort(arr[:mid])  # 왼쪽 부분을 재귀적으로 정렬\n",
        "    right = merge_sort(arr[mid:])  # 오른쪽 부분을 재귀적으로 정렬\n",
        "    return merge(left, right)  # 정렬된 두 부분을 병합\n",
        "\n",
        "# 병합 함수\n",
        "def merge(left, right):\n",
        "    result = []  # 병합된 결과를 저장할 리스트\n",
        "    i = j = 0  # 왼쪽과 오른쪽 리스트의 인덱스\n",
        "    while i < len(left) and j < len(right):  # 두 리스트를 모두 순회할 때까지 반복\n",
        "        if left[i] < right[j]:  # 왼쪽 요소가 더 작으면\n",
        "            result.append(left[i])  # 결과 리스트에 추가\n",
        "            i += 1  # 왼쪽 인덱스 증가\n",
        "        else:\n",
        "            result.append(right[j])  # 오른쪽 요소가 더 작으면 결과 리스트에 추가\n",
        "            j += 1  # 오른쪽 인덱스 증가\n",
        "    result.extend(left[i:])  # 남은 왼쪽 요소를 결과 리스트에 추가\n",
        "    result.extend(right[j:])  # 남은 오른쪽 요소를 결과 리스트에 추가\n",
        "    return result\n",
        "\n",
        "# 병합 정렬 사용 예제\n",
        "arr = [38, 27, 43, 3, 9, 82, 10]\n",
        "print(\"Sorted array:\", merge_sort(arr))  # 출력: [3, 9, 10, 27, 38, 43, 82]\n"
      ],
      "metadata": {
        "colab": {
          "base_uri": "https://localhost:8080/"
        },
        "id": "ZFCabQfInvwH",
        "outputId": "2242e23d-0950-48b9-c89e-0f8e025c0cc4"
      },
      "execution_count": null,
      "outputs": [
        {
          "output_type": "stream",
          "name": "stdout",
          "text": [
            "Sorted array: [3, 9, 10, 27, 38, 43, 82]\n"
          ]
        }
      ]
    },
    {
      "cell_type": "code",
      "source": [
        "'''\n",
        "힙 정렬 (Heap Sort)\n",
        "힙 정렬은 힙 자료구조를 사용하여 정렬하는 알고리즘입니다. 최대 힙 또는 최소 힙을 사용하여 정렬합니다.\n",
        "\n",
        "실생활 활용 예시\n",
        "\n",
        "우선순위 작업:\n",
        "우선순위가 높은 작업을 먼저 처리할 때 사용합니다.\n",
        "예를 들어, 응급실에서 환자의 상태에 따라 우선순위를 부여하여 치료 순서를 결정합니다.\n",
        "'''\n",
        "\n",
        "# 힙 정렬 구현\n",
        "def heapify(arr, n, i):\n",
        "    largest = i  # 루트를 가장 큰 값으로 설정\n",
        "    left = 2 * i + 1  # 왼쪽 자식 인덱스\n",
        "    right = 2 * i + 2  # 오른쪽 자식 인덱스\n",
        "    if left < n and arr[i] < arr[left]:  # 왼쪽 자식이 더 크면\n",
        "        largest = left  # 가장 큰 값을 왼쪽 자식으로 설정\n",
        "    if right < n and arr[largest] < arr[right]:  # 오른쪽 자식이 더 크면\n",
        "        largest = right  # 가장 큰 값을 오른쪽 자식으로 설정\n",
        "    if largest != i:  # 가장 큰 값이 루트가 아니면\n",
        "        arr[i], arr[largest] = arr[largest], arr[i]  # 두 값을 교환\n",
        "        heapify(arr, n, largest)  # 재귀적으로 힙 속성을 유지\n",
        "\n",
        "def heap_sort(arr):\n",
        "    n = len(arr)  # 배열의 길이를 변수 n에 저장\n",
        "    for i in range(n // 2 - 1, -1, -1):  # 배열을 힙 구조로 변환\n",
        "        heapify(arr, n, i)\n",
        "    for i in range(n-1, 0, -1):  # 하나씩 요소를 추출하여 정렬\n",
        "        arr[i], arr[0] = arr[0], arr[i]  # 루트와 마지막 요소를 교환\n",
        "        heapify(arr, i, 0)  # 힙 속성을 유지\n",
        "\n",
        "# 힙 정렬 사용 예제\n",
        "arr = [12, 11, 13, 5, 6, 7]\n",
        "heap_sort(arr)\n",
        "print(\"Sorted array:\", arr)  # 출력: [5, 6, 7, 11, 12, 13]\n"
      ],
      "metadata": {
        "colab": {
          "base_uri": "https://localhost:8080/"
        },
        "id": "BIbEAqRvnv0S",
        "outputId": "ffe0179d-a904-4303-d526-77aefd3a1e90"
      },
      "execution_count": null,
      "outputs": [
        {
          "output_type": "stream",
          "name": "stdout",
          "text": [
            "Sorted array: [5, 6, 7, 11, 12, 13]\n"
          ]
        }
      ]
    },
    {
      "cell_type": "code",
      "source": [
        "'''\n",
        "선형 탐색 (Linear Search)\n",
        "선형 탐색은 리스트의 처음부터 끝까지 순차적으로 요소를 비교하여 원하는 값을 찾는 알고리즘입니다.\n",
        "\n",
        "실생활 활용 예시\n",
        "\n",
        "책 찾기:\n",
        "책장에서 원하는 책을 찾을 때 사용합니다.\n",
        "예를 들어, 책장의 첫 번째 책부터 순차적으로 원하는 책을 찾습니다.\n",
        "'''\n",
        "\n",
        "# 선형 탐색 구현\n",
        "def linear_search(arr, target):\n",
        "    for i in range(len(arr)):  # 배열의 모든 요소를 반복\n",
        "        if arr[i] == target:  # 현재 요소가 목표 값과 같으면\n",
        "            return i  # 인덱스를 반환\n",
        "    return -1  # 목표 값을 찾지 못하면 -1 반환\n",
        "\n",
        "# 선형 탐색 사용 예제\n",
        "arr = [2, 3, 4, 10, 40]\n",
        "target = 10\n",
        "result = linear_search(arr, target)\n",
        "print(\"Element found at index:\", result)  # 출력: Element found at index: 3\n"
      ],
      "metadata": {
        "colab": {
          "base_uri": "https://localhost:8080/"
        },
        "id": "pX-0op2tnv1j",
        "outputId": "73f0d978-652b-4e6b-be38-dbe85157ca86"
      },
      "execution_count": null,
      "outputs": [
        {
          "output_type": "stream",
          "name": "stdout",
          "text": [
            "Element found at index: 3\n"
          ]
        }
      ]
    },
    {
      "cell_type": "code",
      "source": [
        "'''\n",
        "이진 탐색 (Binary Search)\n",
        "이진 탐색은 정렬된 리스트에서 중간 요소를 기준으로 반씩 나누어 원하는 값을 찾는 알고리즘입니다. 리스트가 정렬되어 있어야 합니다.\n",
        "\n",
        "실생활 활용 예시\n",
        "\n",
        "전화번호부 검색:\n",
        "전화번호부에서 이름을 검색할 때 사용합니다.\n",
        "예를 들어, 이름이 알파벳 순서로 정렬된 전화번호부에서 원하는 이름을 찾습니다.\n",
        "'''\n",
        "\n",
        "# 이진 탐색 구현 (재귀적 방법)\n",
        "def binary_search(arr, target, low, high):\n",
        "    if high >= low:\n",
        "        mid = (high + low) // 2  # 중간 인덱스를 계산\n",
        "        if arr[mid] == target:  # 중간 요소가 목표 값과 같으면\n",
        "            return mid  # 인덱스를 반환\n",
        "        elif arr[mid] > target:  # 중간 요소가 목표 값보다 크면\n",
        "            return binary_search(arr, target, low, mid - 1)  # 왼쪽 부분을 탐색\n",
        "        else:\n",
        "            return binary_search(arr, target, mid + 1, high)  # 오른쪽 부분을 탐색\n",
        "    else:\n",
        "        return -1  # 목표 값을 찾지 못하면 -1 반환\n",
        "\n",
        "# 이진 탐색 사용 예제\n",
        "arr = [2, 3, 4, 10, 40]\n",
        "target = 10\n",
        "result = binary_search(arr, target, 0, len(arr) - 1)\n",
        "print(\"Element found at index:\", result)  # 출력: Element found at index: 3\n"
      ],
      "metadata": {
        "colab": {
          "base_uri": "https://localhost:8080/"
        },
        "id": "U-rfkEtCnv61",
        "outputId": "2e6ad99b-3a95-4336-fbf9-f938ee8b7df4"
      },
      "execution_count": null,
      "outputs": [
        {
          "output_type": "stream",
          "name": "stdout",
          "text": [
            "Element found at index: 3\n"
          ]
        }
      ]
    },
    {
      "cell_type": "code",
      "source": [
        "'''\n",
        "B-트리 (B-Tree)\n",
        "B-트리는 자식 노드의 수가 여러 개인 균형 이진 트리입니다. 데이터베이스와 파일 시스템에서 자주 사용됩니다.\n",
        "\n",
        "실생활 활용 예시\n",
        "\n",
        "데이터베이스 인덱싱:\n",
        "데이터베이스에서 빠른 검색을 위해 사용됩니다.\n",
        "예를 들어, 대용량 데이터베이스에서 특정 레코드를 빠르게 찾기 위해 사용됩니다.\n",
        "'''\n",
        "\n",
        "# B-트리 노드 클래스\n",
        "class BTreeNode:\n",
        "    def __init__(self, t, leaf=False):\n",
        "        self.t = t  # 최소 차수 (최소 자식 수)\n",
        "        self.leaf = leaf  # 리프 노드 여부\n",
        "        self.keys = []  # 키 리스트\n",
        "        self.children = []  # 자식 노드 리스트\n",
        "\n",
        "# B-트리 클래스\n",
        "class BTree:\n",
        "    def __init__(self, t):\n",
        "        self.root = BTreeNode(t, True)  # 루트 노드 초기화\n",
        "        self.t = t  # 최소 차수\n",
        "\n",
        "    # 키를 삽입하는 메서드\n",
        "    def insert(self, key):\n",
        "        root = self.root\n",
        "        if len(root.keys) == (2 * self.t) - 1:  # 루트가 가득 찬 경우\n",
        "            new_root = BTreeNode(self.t, False)  # 새로운 루트 생성\n",
        "            new_root.children.append(self.root)  # 기존 루트를 자식으로 추가\n",
        "            self.split_child(new_root, 0)  # 자식을 분할\n",
        "            self.root = new_root  # 새로운 루트를 설정\n",
        "        self._insert_non_full(self.root, key)  # 비가득 노드에 삽입\n",
        "\n",
        "    # 비가득 노드에 키를 삽입하는 메서드\n",
        "    def _insert_non_full(self, node, key):\n",
        "        i = len(node.keys) - 1\n",
        "        if node.leaf:  # 리프 노드인 경우\n",
        "            node.keys.append(None)  # 키 리스트에 공간 확보\n",
        "            while i >= 0 and key < node.keys[i]:\n",
        "                node.keys[i + 1] = node.keys[i]  # 키를 오른쪽으로 이동\n",
        "                i -= 1\n",
        "            node.keys[i + 1] = key  # 새로운 키 삽입\n",
        "        else:  # 내부 노드인 경우\n",
        "            while i >= 0 and key < node.keys[i]:\n",
        "                i -= 1\n",
        "            i += 1\n",
        "            if len(node.children[i].keys) == (2 * self.t) - 1:  # 자식이 가득 찬 경우\n",
        "                self.split_child(node, i)  # 자식을 분할\n",
        "                if key > node.keys[i]:\n",
        "                    i += 1\n",
        "            self._insert_non_full(node.children[i], key)  # 재귀적으로 삽입\n",
        "\n",
        "    # 자식을 분할하는 메서드\n",
        "    def split_child(self, parent, i):\n",
        "        t = self.t\n",
        "        y = parent.children[i]\n",
        "        z = BTreeNode(t, y.leaf)\n",
        "        parent.children.insert(i + 1, z)\n",
        "        parent.keys.insert(i, y.keys[t - 1])\n",
        "        z.keys = y.keys[t:(2 * t) - 1]\n",
        "        y.keys = y.keys[0:t - 1]\n",
        "        if not y.leaf:\n",
        "            z.children = y.children[t:(2 * t)]\n",
        "            y.children = y.children[0:t]\n",
        "\n",
        "    # B-트리를 출력하는 메서드\n",
        "    def print_tree(self, node, level=0):\n",
        "        print(\"Level\", level, \":\", node.keys)\n",
        "        for child in node.children:\n",
        "            self.print_tree(child, level + 1)\n",
        "\n",
        "# B-트리 사용 예제\n",
        "btree = BTree(3)\n",
        "keys = [10, 20, 5, 6, 12, 30, 7, 17]\n",
        "for key in keys:\n",
        "    btree.insert(key)\n",
        "btree.print_tree(btree.root)\n",
        "# 출력:\n",
        "# Level 0 : [10, 20]\n",
        "# Level 1 : [5, 6, 7]\n",
        "# Level 1 : [12, 17]\n",
        "# Level 1 : [30]\n"
      ],
      "metadata": {
        "colab": {
          "base_uri": "https://localhost:8080/"
        },
        "id": "l19nBeXxnv9P",
        "outputId": "3d7fc832-e40f-490e-9399-044d2b225c58"
      },
      "execution_count": null,
      "outputs": [
        {
          "output_type": "stream",
          "name": "stdout",
          "text": [
            "Level 0 : [10]\n",
            "Level 1 : [5, 6, 7]\n",
            "Level 1 : [12, 17, 20, 30]\n"
          ]
        }
      ]
    },
    {
      "cell_type": "code",
      "source": [
        "'''\n",
        "트라이 (Trie)\n",
        "트라이는 문자열을 저장하고 검색하는 데 효율적인 자료구조입니다. 각 노드는 문자열의 문자 하나를 저장합니다.\n",
        "\n",
        "실생활 활용 예시\n",
        "\n",
        "자동 완성:\n",
        "검색 엔진에서 입력된 문자열의 자동 완성 기능에 사용됩니다.\n",
        "예를 들어, 사용자가 \"app\"을 입력하면 “apple”, “application” 등을 제안합니다.\n",
        "'''\n",
        "\n",
        "# 트라이 노드 클래스\n",
        "class TrieNode:\n",
        "    def __init__(self):\n",
        "        self.children = {}  # 자식 노드를 저장할 딕셔너리\n",
        "        self.is_end_of_word = False  # 단어의 끝 여부\n",
        "\n",
        "# 트라이 클래스\n",
        "class Trie:\n",
        "    def __init__(self):\n",
        "        self.root = TrieNode()  # 루트 노드 초기화\n",
        "\n",
        "    # 단어를 삽입하는 메서드\n",
        "    def insert(self, word):\n",
        "        node = self.root\n",
        "        for char in word:\n",
        "            if char not in node.children:\n",
        "                node.children[char] = TrieNode()  # 새로운 노드 생성\n",
        "            node = node.children[char]\n",
        "        node.is_end_of_word = True  # 단어의 끝 표시\n",
        "\n",
        "    # 단어를 검색하는 메서드\n",
        "    def search(self, word):\n",
        "        node = self.root\n",
        "        for char in word:\n",
        "            if char not in node.children:\n",
        "                return False  # 단어가 존재하지 않으면 False 반환\n",
        "            node = node.children[char]\n",
        "        return node.is_end_of_word  # 단어의 끝 여부 반환\n",
        "\n",
        "    # 접두사를 검색하는 메서드\n",
        "    def starts_with(self, prefix):\n",
        "        node = self.root\n",
        "        for char in prefix:\n",
        "            if char not in node.children:\n",
        "                return False  # 접두사가 존재하지 않으면 False 반환\n",
        "            node = node.children[char]\n",
        "        return True  # 접두사가 존재하면 True 반환\n",
        "\n",
        "# 트라이 사용 예제\n",
        "trie = Trie()\n",
        "trie.insert(\"apple\")\n",
        "print(trie.search(\"apple\"))  # 출력: True\n",
        "print(trie.search(\"app\"))  # 출력: False\n",
        "print(trie.starts_with(\"app\"))  # 출력: True\n",
        "trie.insert(\"app\")\n",
        "print(trie.search(\"app\"))  # 출력: True\n"
      ],
      "metadata": {
        "colab": {
          "base_uri": "https://localhost:8080/"
        },
        "id": "nubnGMZ3px5h",
        "outputId": "921eb800-461d-492e-d052-1ef4b588ccca"
      },
      "execution_count": null,
      "outputs": [
        {
          "output_type": "stream",
          "name": "stdout",
          "text": [
            "True\n",
            "False\n",
            "True\n",
            "True\n"
          ]
        }
      ]
    },
    {
      "cell_type": "code",
      "source": [
        "'''\n",
        "세그먼트 트리 (Segment Tree)\n",
        "세그먼트 트리는 배열의 구간 합, 최소값, 최대값 등을 효율적으로 계산하기 위한 자료구조입니다.\n",
        "\n",
        "실생활 활용 예시\n",
        "\n",
        "범위 쿼리:\n",
        "주식 가격의 특정 기간 동안의 최대값, 최소값, 합 등을 계산할 때 사용됩니다.\n",
        "예를 들어, 특정 기간 동안의 주식 가격 변동을 분석합니다.\n",
        "'''\n",
        "\n",
        "# 세그먼트 트리 클래스\n",
        "class SegmentTree:\n",
        "    def __init__(self, data):\n",
        "        self.n = len(data)\n",
        "        self.tree = [0] * (2 * self.n)\n",
        "        self.build(data)\n",
        "\n",
        "    # 세그먼트 트리를 빌드하는 메서드\n",
        "    def build(self, data):\n",
        "        for i in range(self.n):\n",
        "            self.tree[self.n + i] = data[i]\n",
        "        for i in range(self.n - 1, 0, -1):\n",
        "            self.tree[i] = self.tree[i * 2] + self.tree[i * 2 + 1]\n",
        "\n",
        "    # 구간 합을 계산하는 메서드\n",
        "    def range_sum(self, left, right):\n",
        "        left += self.n\n",
        "        right += self.n\n",
        "        sum = 0\n",
        "        while left < right:\n",
        "            if left % 2 == 1:\n",
        "                sum += self.tree[left]\n",
        "                left += 1\n",
        "            if right % 2 == 1:\n",
        "                right -= 1\n",
        "                sum += self.tree[right]\n",
        "            left //= 2\n",
        "            right //= 2\n",
        "        return sum\n",
        "\n",
        "    # 값을 업데이트하는 메서드\n",
        "    def update(self, index, value):\n",
        "        index += self.n\n",
        "        self.tree[index] = value\n",
        "        while index > 1:\n",
        "            index //= 2\n",
        "            self.tree[index] = self.tree[2 * index] + self.tree[2 * index + 1]\n",
        "\n",
        "# 세그먼트 트리 사용 예제\n",
        "data = [1, 3, 5, 7, 9, 11]\n",
        "seg_tree = SegmentTree(data)\n",
        "print(\"Range sum (1, 5):\", seg_tree.range_sum(1, 5))  # 출력: Range sum (1, 5): 24\n",
        "seg_tree.update(1, 10)\n",
        "print(\"Range sum (1, 5):\", seg_tree.range_sum(1, 5))  # 출력: Range sum (1, 5): 31\n"
      ],
      "metadata": {
        "colab": {
          "base_uri": "https://localhost:8080/"
        },
        "id": "1a0mlGb0px88",
        "outputId": "ee0e6089-2792-4c5e-d387-6e44e454afb8"
      },
      "execution_count": null,
      "outputs": [
        {
          "output_type": "stream",
          "name": "stdout",
          "text": [
            "Range sum (1, 5): 24\n",
            "Range sum (1, 5): 31\n"
          ]
        }
      ]
    },
    {
      "cell_type": "code",
      "source": [
        "'''\n",
        "펜윅 트리 (Fenwick Tree)\n",
        "펜윅 트리는 배열의 구간 합을 효율적으로 계산하기 위한 자료구조입니다. 세그먼트 트리보다 구현이 간단합니다.\n",
        "\n",
        "실생활 활용 예시\n",
        "\n",
        "실시간 데이터 분석:\n",
        "실시간으로 데이터가 업데이트되는 상황에서 구간 합을 빠르게 계산할 때 사용됩니다.\n",
        "예를 들어, 주식 거래 시스템에서 실시간으로 거래량을 업데이트하고 특정 기간 동안의 총 거래량을 계산합니다.\n",
        "'''\n",
        "\n",
        "# 펜윅 트리 클래스\n",
        "class FenwickTree:\n",
        "    def __init__(self, size):\n",
        "        self.size = size  # 배열의 크기\n",
        "        self.tree = [0] * (size + 1)  # 펜윅 트리 초기화 (1-based index)\n",
        "\n",
        "    # 값을 업데이트하는 메서드\n",
        "    def update(self, index, value):\n",
        "        while index <= self.size:\n",
        "            self.tree[index] += value  # 해당 인덱스에 값을 더함\n",
        "            index += index & -index  # 다음 인덱스로 이동\n",
        "\n",
        "    # 구간 합을 계산하는 메서드\n",
        "    def query(self, index):\n",
        "        sum = 0\n",
        "        while index > 0:\n",
        "            sum += self.tree[index]  # 해당 인덱스의 값을 더함\n",
        "            index -= index & -index  # 다음 인덱스로 이동\n",
        "        return sum\n",
        "\n",
        "    # 특정 범위의 합을 계산하는 메서드\n",
        "    def range_query(self, left, right):\n",
        "        return self.query(right) - self.query(left - 1)\n",
        "\n",
        "# 펜윅 트리 사용 예제\n",
        "data = [1, 7, 3, 0, 7, 8, 3, 2, 6, 2]\n",
        "fenwick_tree = FenwickTree(len(data))\n",
        "for i, value in enumerate(data):\n",
        "    fenwick_tree.update(i + 1, value)  # 1-based index로 업데이트\n",
        "\n",
        "print(\"Sum of first 5 elements:\", fenwick_tree.query(5))  # 출력: Sum of first 5 elements: 18\n",
        "print(\"Sum of elements from index 3 to 8:\", fenwick_tree.range_query(3, 8))  # 출력: Sum of elements from index 3 to 8: 23\n"
      ],
      "metadata": {
        "colab": {
          "base_uri": "https://localhost:8080/"
        },
        "id": "q3YuxXE1pyCK",
        "outputId": "b78563af-d9ad-4125-f818-0250e5b4c2f1"
      },
      "execution_count": null,
      "outputs": [
        {
          "output_type": "stream",
          "name": "stdout",
          "text": [
            "Sum of first 5 elements: 18\n",
            "Sum of elements from index 3 to 8: 23\n"
          ]
        }
      ]
    },
    {
      "cell_type": "code",
      "source": [
        "'''\n",
        "시간 복잡도와 공간 복잡도\n",
        "알고리즘의 시간 복잡도는 알고리즘이 실행되는 데 걸리는 시간을 나타내며, 공간 복잡도는 알고리즘이 사용하는 메모리의 양을 나타냅니다. 두 복잡도 모두 입력 크기 ( n )에 대한 함수로 표현됩니다.\n",
        "\n",
        "실생활 활용 예시\n",
        "시간 복잡도:\n",
        "예를 들어, 친구 목록에서 특정 친구를 찾는 데 걸리는 시간을 분석할 수 있습니다.\n",
        "친구 목록이 길어질수록 검색 시간이 증가합니다.\n",
        "공간 복잡도:\n",
        "예를 들어, 대규모 데이터베이스에서 데이터를 저장하는 데 필요한 메모리 양을 분석할 수 있습니다.\n",
        "데이터가 많아질수록 필요한 메모리 양이 증가합니다.\n",
        "빅오 표기법 (Big-O Notation)\n",
        "빅오 표기법은 알고리즘의 시간 복잡도와 공간 복잡도를 나타내는 데 사용됩니다. 이는 최악의 경우 성능을 나타내며, 입력 크기 ( n )에 대한 함수로 표현됩니다.\n",
        "\n",
        "주요 빅오 표기법\n",
        "O(1): 상수 시간 복잡도\n",
        "O(n): 선형 시간 복잡도\n",
        "O(n^2): 이차 시간 복잡도\n",
        "O(log n): 로그 시간 복잡도\n",
        "O(n log n): 선형 로그 시간 복잡도\n",
        "실생활 활용 예시\n",
        "O(1):\n",
        "예를 들어, 배열의 특정 인덱스에 접근하는 시간은 상수 시간입니다.\n",
        "O(n):\n",
        "예를 들어, 친구 목록에서 특정 친구를 찾는 시간은 선형 시간입니다.\n",
        "O(n^2):\n",
        "예를 들어, 버블 정렬 알고리즘의 시간 복잡도는 이차 시간입니다.\n",
        "최선, 평균, 최악의 경우 분석\n",
        "알고리즘의 성능은 최선의 경우, 평균적인 경우, 최악의 경우로 나눌 수 있습니다. 이는 알고리즘이 다양한 입력에 대해 어떻게 동작하는지를 나타냅니다.\n",
        "\n",
        "실생활 활용 예시\n",
        "최선의 경우:\n",
        "예를 들어, 이미 정렬된 배열을 정렬하는 경우, 삽입 정렬의 시간 복잡도는 O(n)입니다.\n",
        "평균적인 경우:\n",
        "예를 들어, 무작위 배열을 정렬하는 경우, 퀵 정렬의 평균 시간 복잡도는 O(n log n)입니다.\n",
        "최악의 경우:\n",
        "예를 들어, 역순으로 정렬된 배열을 정렬하는 경우, 퀵 정렬의 최악 시간 복잡도는 O(n^2)입니다.\n",
        "'''"
      ],
      "metadata": {
        "colab": {
          "base_uri": "https://localhost:8080/",
          "height": 237
        },
        "id": "2kPMWSiqpyFi",
        "outputId": "d50c39d3-4f62-478f-ad0c-27c1338cf4fa"
      },
      "execution_count": null,
      "outputs": [
        {
          "output_type": "execute_result",
          "data": {
            "text/plain": [
              "'\\n시간 복잡도와 공간 복잡도\\n알고리즘의 시간 복잡도는 알고리즘이 실행되는 데 걸리는 시간을 나타내며, 공간 복잡도는 알고리즘이 사용하는 메모리의 양을 나타냅니다. 두 복잡도 모두 입력 크기 ( n )에 대한 함수로 표현됩니다.\\n\\n실생활 활용 예시\\n시간 복잡도:\\n예를 들어, 친구 목록에서 특정 친구를 찾는 데 걸리는 시간을 분석할 수 있습니다.\\n친구 목록이 길어질수록 검색 시간이 증가합니다.\\n공간 복잡도:\\n예를 들어, 대규모 데이터베이스에서 데이터를 저장하는 데 필요한 메모리 양을 분석할 수 있습니다.\\n데이터가 많아질수록 필요한 메모리 양이 증가합니다.\\n빅오 표기법 (Big-O Notation)\\n빅오 표기법은 알고리즘의 시간 복잡도와 공간 복잡도를 나타내는 데 사용됩니다. 이는 최악의 경우 성능을 나타내며, 입력 크기 ( n )에 대한 함수로 표현됩니다.\\n\\n주요 빅오 표기법\\nO(1): 상수 시간 복잡도\\nO(n): 선형 시간 복잡도\\nO(n^2): 이차 시간 복잡도\\nO(log n): 로그 시간 복잡도\\nO(n log n): 선형 로그 시간 복잡도\\n실생활 활용 예시\\nO(1):\\n예를 들어, 배열의 특정 인덱스에 접근하는 시간은 상수 시간입니다.\\nO(n):\\n예를 들어, 친구 목록에서 특정 친구를 찾는 시간은 선형 시간입니다.\\nO(n^2):\\n예를 들어, 버블 정렬 알고리즘의 시간 복잡도는 이차 시간입니다.\\n최선, 평균, 최악의 경우 분석\\n알고리즘의 성능은 최선의 경우, 평균적인 경우, 최악의 경우로 나눌 수 있습니다. 이는 알고리즘이 다양한 입력에 대해 어떻게 동작하는지를 나타냅니다.\\n\\n실생활 활용 예시\\n최선의 경우:\\n예를 들어, 이미 정렬된 배열을 정렬하는 경우, 삽입 정렬의 시간 복잡도는 O(n)입니다.\\n평균적인 경우:\\n예를 들어, 무작위 배열을 정렬하는 경우, 퀵 정렬의 평균 시간 복잡도는 O(n log n)입니다.\\n최악의 경우:\\n예를 들어, 역순으로 정렬된 배열을 정렬하는 경우, 퀵 정렬의 최악 시간 복잡도는 O(n^2)입니다.\\n'"
            ],
            "application/vnd.google.colaboratory.intrinsic+json": {
              "type": "string"
            }
          },
          "metadata": {},
          "execution_count": 52
        }
      ]
    },
    {
      "cell_type": "code",
      "source": [
        "import time\n",
        "\n",
        "# 선형 탐색 구현\n",
        "class LinearSearch:\n",
        "    def __init__(self, data):\n",
        "        self.data = data\n",
        "\n",
        "    def search(self, target):\n",
        "        for i in range(len(self.data)):\n",
        "            if self.data[i] == target:\n",
        "                return i\n",
        "        return -1\n",
        "\n",
        "# 이진 탐색 구현\n",
        "class BinarySearch:\n",
        "    def __init__(self, data):\n",
        "        self.data = sorted(data)  # 이진 탐색을 위해 데이터 정렬\n",
        "\n",
        "    def search(self, target):\n",
        "        return self._binary_search(target, 0, len(self.data) - 1)\n",
        "\n",
        "    def _binary_search(self, target, low, high):\n",
        "        if high >= low:\n",
        "            mid = (high + low) // 2\n",
        "            if self.data[mid] == target:\n",
        "                return mid\n",
        "            elif self.data[mid] > target:\n",
        "                return self._binary_search(target, low, mid - 1)\n",
        "            else:\n",
        "                return self._binary_search(target, mid + 1, high)\n",
        "        else:\n",
        "            return -1\n",
        "\n",
        "# 예제 배열과 타겟 값\n",
        "data = list(range(1, 1000001))\n",
        "target = 999999\n",
        "\n",
        "# 선형 탐색 시간 측정\n",
        "linear_search = LinearSearch(data)\n",
        "start_time = time.time()\n",
        "linear_search.search(target)\n",
        "end_time = time.time()\n",
        "print(\"Linear Search Time:\", end_time - start_time)\n",
        "\n",
        "# 이진 탐색 시간 측정\n",
        "binary_search = BinarySearch(data)\n",
        "start_time = time.time()\n",
        "binary_search.search(target)\n",
        "end_time = time.time()\n",
        "print(\"Binary Search Time:\", end_time - start_time)\n"
      ],
      "metadata": {
        "colab": {
          "base_uri": "https://localhost:8080/"
        },
        "id": "L538Nv99pyG7",
        "outputId": "150e5ad5-a5cb-4395-f8a9-d0f8af992c93"
      },
      "execution_count": null,
      "outputs": [
        {
          "output_type": "stream",
          "name": "stdout",
          "text": [
            "Linear Search Time: 0.1988964080810547\n",
            "Binary Search Time: 0.05979514122009277\n"
          ]
        }
      ]
    },
    {
      "cell_type": "code",
      "source": [],
      "metadata": {
        "id": "XehD6zVxqtY8"
      },
      "execution_count": null,
      "outputs": []
    }
  ]
}